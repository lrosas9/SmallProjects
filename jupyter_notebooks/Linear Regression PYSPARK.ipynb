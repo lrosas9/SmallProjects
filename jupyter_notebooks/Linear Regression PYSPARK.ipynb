{
 "cells": [
  {
   "cell_type": "code",
   "execution_count": 0,
   "metadata": {
    "application/vnd.databricks.v1+cell": {
     "cellMetadata": {
      "byteLimit": 2048000,
      "rowLimit": 10000
     },
     "inputWidgets": {},
     "nuid": "36efba20-e54a-43a0-a3ac-c856768eeed9",
     "showTitle": false,
     "title": ""
    }
   },
   "outputs": [
    {
     "name": "stdout",
     "output_type": "stream",
     "text": [
      "+----------+---+------+------+---------+---------+----+\n",
      "|total_bill|tip|   sex|smoker|      day|     time|size|\n",
      "+----------+---+------+------+---------+---------+----+\n",
      "|        19| 52|  male|    no|  Tuesday|   dinner|10.5|\n",
      "|        90| 45|  male|   yes|  Tuesday|   dinner|11.0|\n",
      "|        52| 45|  male|    no| Thursday|   dinner| 5.0|\n",
      "|        62|  9|  male|   yes| Saturday|    lunch|11.5|\n",
      "|        78| 51|female|    no|  Tuesday|    snack| 6.5|\n",
      "|        31| 74|female|   yes|   Sunday|    lunch| 9.0|\n",
      "|         9| 95|  male|   yes|   Sunday|    snack| 6.5|\n",
      "|         8| 33|  male|   yes|   Monday|   dinner|10.0|\n",
      "|        95| 23|  male|    no|   Monday|breakfast| 9.0|\n",
      "|        93| 14|  male|   yes|   Monday|   dinner| 9.5|\n",
      "|        54| 94|  male|   yes| Thursday|    lunch| 6.5|\n",
      "|        86| 82|female|   yes|   Monday|   dinner|10.0|\n",
      "|        29| 58|  male|    no|Wednesday|    lunch|11.0|\n",
      "|        55| 90|female|    no|Wednesday|    snack| 9.0|\n",
      "|         8| 95|female|    no|   Friday|breakfast|10.5|\n",
      "|        94| 16|female|   yes| Saturday|    lunch| 8.5|\n",
      "|        92| 69|female|   yes|  Tuesday|   dinner| 9.0|\n",
      "|        61| 73|  male|   yes|  Tuesday|breakfast| 5.5|\n",
      "|        17| 73|  male|    no|  Tuesday|    snack| 9.5|\n",
      "|        45| 88|female|   yes|Wednesday|   dinner|10.0|\n",
      "+----------+---+------+------+---------+---------+----+\n",
      "\n"
     ]
    }
   ],
   "source": [
    "# File location and type\n",
    "file_location = \"/FileStore/tables/tips.csv\"\n",
    "file_type = \"csv\"\n",
    "\n",
    "df = spark.read.csv(file_location, header=True, inferSchema=True)\n",
    "\n",
    "df.show()"
   ]
  },
  {
   "cell_type": "code",
   "execution_count": 0,
   "metadata": {
    "application/vnd.databricks.v1+cell": {
     "cellMetadata": {
      "byteLimit": 2048000,
      "rowLimit": 10000
     },
     "inputWidgets": {},
     "nuid": "2fa9a3ca-8fb3-44bb-991b-d316a77da964",
     "showTitle": false,
     "title": ""
    }
   },
   "outputs": [
    {
     "name": "stdout",
     "output_type": "stream",
     "text": [
      "root\n",
      " |-- total_bill: integer (nullable = true)\n",
      " |-- tip: integer (nullable = true)\n",
      " |-- sex: string (nullable = true)\n",
      " |-- smoker: string (nullable = true)\n",
      " |-- day: string (nullable = true)\n",
      " |-- time: string (nullable = true)\n",
      " |-- size: double (nullable = true)\n",
      "\n"
     ]
    }
   ],
   "source": [
    "df.printSchema()"
   ]
  },
  {
   "cell_type": "code",
   "execution_count": 0,
   "metadata": {
    "application/vnd.databricks.v1+cell": {
     "cellMetadata": {
      "byteLimit": 2048000,
      "rowLimit": 10000
     },
     "inputWidgets": {},
     "nuid": "b5349c3e-3888-4c5c-86ff-4dc3870143bb",
     "showTitle": false,
     "title": ""
    }
   },
   "outputs": [
    {
     "data": {
      "text/plain": [
       "['total_bill', 'tip', 'sex', 'smoker', 'day', 'time', 'size']"
      ]
     },
     "execution_count": 6,
     "metadata": {},
     "output_type": "execute_result"
    }
   ],
   "source": [
    "df.columns##"
   ]
  },
  {
   "cell_type": "code",
   "execution_count": 0,
   "metadata": {
    "application/vnd.databricks.v1+cell": {
     "cellMetadata": {
      "byteLimit": 2048000,
      "rowLimit": 10000
     },
     "inputWidgets": {},
     "nuid": "e80023c7-1db2-480d-abac-c1d614d93e2f",
     "showTitle": false,
     "title": ""
    }
   },
   "outputs": [],
   "source": [
    "##Handling categorical features\n",
    "from pyspark.ml.feature import StringIndexer"
   ]
  },
  {
   "cell_type": "code",
   "execution_count": 0,
   "metadata": {
    "application/vnd.databricks.v1+cell": {
     "cellMetadata": {
      "byteLimit": 2048000,
      "rowLimit": 10000
     },
     "inputWidgets": {},
     "nuid": "f4c33255-06c7-4bf0-b440-4d97e7fadbaf",
     "showTitle": false,
     "title": ""
    }
   },
   "outputs": [
    {
     "name": "stdout",
     "output_type": "stream",
     "text": [
      "+----------+---+------+------+---------+---------+----+\n",
      "|total_bill|tip|   sex|smoker|      day|     time|size|\n",
      "+----------+---+------+------+---------+---------+----+\n",
      "|        19| 52|  male|    no|  Tuesday|   dinner|10.5|\n",
      "|        90| 45|  male|   yes|  Tuesday|   dinner|11.0|\n",
      "|        52| 45|  male|    no| Thursday|   dinner| 5.0|\n",
      "|        62|  9|  male|   yes| Saturday|    lunch|11.5|\n",
      "|        78| 51|female|    no|  Tuesday|    snack| 6.5|\n",
      "|        31| 74|female|   yes|   Sunday|    lunch| 9.0|\n",
      "|         9| 95|  male|   yes|   Sunday|    snack| 6.5|\n",
      "|         8| 33|  male|   yes|   Monday|   dinner|10.0|\n",
      "|        95| 23|  male|    no|   Monday|breakfast| 9.0|\n",
      "|        93| 14|  male|   yes|   Monday|   dinner| 9.5|\n",
      "|        54| 94|  male|   yes| Thursday|    lunch| 6.5|\n",
      "|        86| 82|female|   yes|   Monday|   dinner|10.0|\n",
      "|        29| 58|  male|    no|Wednesday|    lunch|11.0|\n",
      "|        55| 90|female|    no|Wednesday|    snack| 9.0|\n",
      "|         8| 95|female|    no|   Friday|breakfast|10.5|\n",
      "|        94| 16|female|   yes| Saturday|    lunch| 8.5|\n",
      "|        92| 69|female|   yes|  Tuesday|   dinner| 9.0|\n",
      "|        61| 73|  male|   yes|  Tuesday|breakfast| 5.5|\n",
      "|        17| 73|  male|    no|  Tuesday|    snack| 9.5|\n",
      "|        45| 88|female|   yes|Wednesday|   dinner|10.0|\n",
      "+----------+---+------+------+---------+---------+----+\n",
      "\n"
     ]
    }
   ],
   "source": [
    "df.show()"
   ]
  },
  {
   "cell_type": "code",
   "execution_count": 0,
   "metadata": {
    "application/vnd.databricks.v1+cell": {
     "cellMetadata": {
      "byteLimit": 2048000,
      "rowLimit": 10000
     },
     "inputWidgets": {},
     "nuid": "decc4f77-9e6b-49ab-90b4-205e377346fd",
     "showTitle": false,
     "title": ""
    }
   },
   "outputs": [
    {
     "name": "stdout",
     "output_type": "stream",
     "text": [
      "+----------+---+------+------+---------+---------+----+-----------+\n",
      "|total_bill|tip|   sex|smoker|      day|     time|size|sex-indexed|\n",
      "+----------+---+------+------+---------+---------+----+-----------+\n",
      "|        19| 52|  male|    no|  Tuesday|   dinner|10.5|        0.0|\n",
      "|        90| 45|  male|   yes|  Tuesday|   dinner|11.0|        0.0|\n",
      "|        52| 45|  male|    no| Thursday|   dinner| 5.0|        0.0|\n",
      "|        62|  9|  male|   yes| Saturday|    lunch|11.5|        0.0|\n",
      "|        78| 51|female|    no|  Tuesday|    snack| 6.5|        1.0|\n",
      "|        31| 74|female|   yes|   Sunday|    lunch| 9.0|        1.0|\n",
      "|         9| 95|  male|   yes|   Sunday|    snack| 6.5|        0.0|\n",
      "|         8| 33|  male|   yes|   Monday|   dinner|10.0|        0.0|\n",
      "|        95| 23|  male|    no|   Monday|breakfast| 9.0|        0.0|\n",
      "|        93| 14|  male|   yes|   Monday|   dinner| 9.5|        0.0|\n",
      "|        54| 94|  male|   yes| Thursday|    lunch| 6.5|        0.0|\n",
      "|        86| 82|female|   yes|   Monday|   dinner|10.0|        1.0|\n",
      "|        29| 58|  male|    no|Wednesday|    lunch|11.0|        0.0|\n",
      "|        55| 90|female|    no|Wednesday|    snack| 9.0|        1.0|\n",
      "|         8| 95|female|    no|   Friday|breakfast|10.5|        1.0|\n",
      "|        94| 16|female|   yes| Saturday|    lunch| 8.5|        1.0|\n",
      "|        92| 69|female|   yes|  Tuesday|   dinner| 9.0|        1.0|\n",
      "|        61| 73|  male|   yes|  Tuesday|breakfast| 5.5|        0.0|\n",
      "|        17| 73|  male|    no|  Tuesday|    snack| 9.5|        0.0|\n",
      "|        45| 88|female|   yes|Wednesday|   dinner|10.0|        1.0|\n",
      "+----------+---+------+------+---------+---------+----+-----------+\n",
      "\n"
     ]
    }
   ],
   "source": [
    "indexer=StringIndexer(inputCol=(\"sex\"), outputCol=(\"sex-indexed\"))\n",
    "dframe=indexer.fit(df).transform(df)\n",
    "dframe.show()"
   ]
  },
  {
   "cell_type": "code",
   "execution_count": 0,
   "metadata": {
    "application/vnd.databricks.v1+cell": {
     "cellMetadata": {
      "byteLimit": 2048000,
      "rowLimit": 10000
     },
     "inputWidgets": {},
     "nuid": "2754983f-edf1-4c21-b836-b1de3ecd4a63",
     "showTitle": false,
     "title": ""
    }
   },
   "outputs": [
    {
     "name": "stdout",
     "output_type": "stream",
     "text": [
      "+----------+---+------+------+---------+---------+----+-----------+--------------+-----------+------------+\n",
      "|total_bill|tip|   sex|smoker|      day|     time|size|sex-indexed|smoker-indexed|day-indexed|time-indexed|\n",
      "+----------+---+------+------+---------+---------+----+-----------+--------------+-----------+------------+\n",
      "|        19| 52|  male|    no|  Tuesday|   dinner|10.5|        0.0|           1.0|        0.0|         0.0|\n",
      "|        90| 45|  male|   yes|  Tuesday|   dinner|11.0|        0.0|           0.0|        0.0|         0.0|\n",
      "|        52| 45|  male|    no| Thursday|   dinner| 5.0|        0.0|           1.0|        5.0|         0.0|\n",
      "|        62|  9|  male|   yes| Saturday|    lunch|11.5|        0.0|           0.0|        3.0|         1.0|\n",
      "|        78| 51|female|    no|  Tuesday|    snack| 6.5|        1.0|           1.0|        0.0|         2.0|\n",
      "|        31| 74|female|   yes|   Sunday|    lunch| 9.0|        1.0|           0.0|        4.0|         1.0|\n",
      "|         9| 95|  male|   yes|   Sunday|    snack| 6.5|        0.0|           0.0|        4.0|         2.0|\n",
      "|         8| 33|  male|   yes|   Monday|   dinner|10.0|        0.0|           0.0|        1.0|         0.0|\n",
      "|        95| 23|  male|    no|   Monday|breakfast| 9.0|        0.0|           1.0|        1.0|         3.0|\n",
      "|        93| 14|  male|   yes|   Monday|   dinner| 9.5|        0.0|           0.0|        1.0|         0.0|\n",
      "|        54| 94|  male|   yes| Thursday|    lunch| 6.5|        0.0|           0.0|        5.0|         1.0|\n",
      "|        86| 82|female|   yes|   Monday|   dinner|10.0|        1.0|           0.0|        1.0|         0.0|\n",
      "|        29| 58|  male|    no|Wednesday|    lunch|11.0|        0.0|           1.0|        2.0|         1.0|\n",
      "|        55| 90|female|    no|Wednesday|    snack| 9.0|        1.0|           1.0|        2.0|         2.0|\n",
      "|         8| 95|female|    no|   Friday|breakfast|10.5|        1.0|           1.0|        6.0|         3.0|\n",
      "|        94| 16|female|   yes| Saturday|    lunch| 8.5|        1.0|           0.0|        3.0|         1.0|\n",
      "|        92| 69|female|   yes|  Tuesday|   dinner| 9.0|        1.0|           0.0|        0.0|         0.0|\n",
      "|        61| 73|  male|   yes|  Tuesday|breakfast| 5.5|        0.0|           0.0|        0.0|         3.0|\n",
      "|        17| 73|  male|    no|  Tuesday|    snack| 9.5|        0.0|           1.0|        0.0|         2.0|\n",
      "|        45| 88|female|   yes|Wednesday|   dinner|10.0|        1.0|           0.0|        2.0|         0.0|\n",
      "+----------+---+------+------+---------+---------+----+-----------+--------------+-----------+------------+\n",
      "\n"
     ]
    }
   ],
   "source": [
    "indexer=StringIndexer(inputCols=[\"sex\", \"smoker\", \"day\", \"time\"], outputCols=[\"sex-indexed\", \"smoker-indexed\", \"day-indexed\", \"time-indexed\"])\n",
    "dframe=indexer.fit(df).transform(df)\n",
    "dframe.show()"
   ]
  },
  {
   "cell_type": "code",
   "execution_count": 0,
   "metadata": {
    "application/vnd.databricks.v1+cell": {
     "cellMetadata": {
      "byteLimit": 2048000,
      "rowLimit": 10000
     },
     "inputWidgets": {},
     "nuid": "126d26a6-d078-49ac-ac99-330237bc73f7",
     "showTitle": false,
     "title": ""
    }
   },
   "outputs": [
    {
     "data": {
      "text/plain": [
       "['total_bill',\n",
       " 'tip',\n",
       " 'sex',\n",
       " 'smoker',\n",
       " 'day',\n",
       " 'time',\n",
       " 'size',\n",
       " 'sex-indexed',\n",
       " 'smoker-indexed',\n",
       " 'day-indexed',\n",
       " 'time-indexed']"
      ]
     },
     "execution_count": 14,
     "metadata": {},
     "output_type": "execute_result"
    }
   ],
   "source": [
    "dframe.columns"
   ]
  },
  {
   "cell_type": "code",
   "execution_count": 0,
   "metadata": {
    "application/vnd.databricks.v1+cell": {
     "cellMetadata": {
      "byteLimit": 2048000,
      "rowLimit": 10000
     },
     "inputWidgets": {},
     "nuid": "c8f2b620-ef1d-4a7c-ad25-8dc0154df3bd",
     "showTitle": false,
     "title": ""
    }
   },
   "outputs": [
    {
     "name": "stdout",
     "output_type": "stream",
     "text": [
      "+--------------------+\n",
      "|Independent_Features|\n",
      "+--------------------+\n",
      "|[52.0,10.5,0.0,1....|\n",
      "|(6,[0,1],[45.0,11...|\n",
      "|[45.0,5.0,0.0,1.0...|\n",
      "|[9.0,11.5,0.0,0.0...|\n",
      "|[51.0,6.5,1.0,1.0...|\n",
      "|[74.0,9.0,1.0,0.0...|\n",
      "|[95.0,6.5,0.0,0.0...|\n",
      "|[33.0,10.0,0.0,0....|\n",
      "|[23.0,9.0,0.0,1.0...|\n",
      "|[14.0,9.5,0.0,0.0...|\n",
      "|[94.0,6.5,0.0,0.0...|\n",
      "|[82.0,10.0,1.0,0....|\n",
      "|[58.0,11.0,0.0,1....|\n",
      "|[90.0,9.0,1.0,1.0...|\n",
      "|[95.0,10.5,1.0,1....|\n",
      "|[16.0,8.5,1.0,0.0...|\n",
      "|[69.0,9.0,1.0,0.0...|\n",
      "|[73.0,5.5,0.0,0.0...|\n",
      "|[73.0,9.5,0.0,1.0...|\n",
      "|[88.0,10.0,1.0,0....|\n",
      "+--------------------+\n",
      "\n"
     ]
    }
   ],
   "source": [
    "from pyspark.ml.feature import VectorAssembler\n",
    "featureAssembler=VectorAssembler(inputCols=[\"tip\", \"size\", \"sex-indexed\", \"smoker-indexed\", \"day-indexed\", \"time-indexed\"], outputCol=(\"Independent_Features\"))\n",
    "\n",
    "output=featureAssembler.transform(dframe)\n",
    "output.select(\"Independent_Features\").show()\n"
   ]
  },
  {
   "cell_type": "code",
   "execution_count": 0,
   "metadata": {
    "application/vnd.databricks.v1+cell": {
     "cellMetadata": {
      "byteLimit": 2048000,
      "rowLimit": 10000
     },
     "inputWidgets": {},
     "nuid": "cf5dbecb-339a-4a24-a3fb-d001099aadb4",
     "showTitle": false,
     "title": ""
    }
   },
   "outputs": [
    {
     "name": "stdout",
     "output_type": "stream",
     "text": [
      "+--------------------+\n",
      "|Independent_Features|\n",
      "+--------------------+\n",
      "|[52.0,10.5,0.0,1....|\n",
      "|(6,[0,1],[45.0,11...|\n",
      "|[45.0,5.0,0.0,1.0...|\n",
      "|[9.0,11.5,0.0,0.0...|\n",
      "|[51.0,6.5,1.0,1.0...|\n",
      "|[74.0,9.0,1.0,0.0...|\n",
      "|[95.0,6.5,0.0,0.0...|\n",
      "|[33.0,10.0,0.0,0....|\n",
      "|[23.0,9.0,0.0,1.0...|\n",
      "|[14.0,9.5,0.0,0.0...|\n",
      "|[94.0,6.5,0.0,0.0...|\n",
      "|[82.0,10.0,1.0,0....|\n",
      "|[58.0,11.0,0.0,1....|\n",
      "|[90.0,9.0,1.0,1.0...|\n",
      "|[95.0,10.5,1.0,1....|\n",
      "|[16.0,8.5,1.0,0.0...|\n",
      "|[69.0,9.0,1.0,0.0...|\n",
      "|[73.0,5.5,0.0,0.0...|\n",
      "|[73.0,9.5,0.0,1.0...|\n",
      "|[88.0,10.0,1.0,0....|\n",
      "+--------------------+\n",
      "\n"
     ]
    }
   ],
   "source": [
    "output.select(\"Independent_Features\").show()"
   ]
  },
  {
   "cell_type": "code",
   "execution_count": 0,
   "metadata": {
    "application/vnd.databricks.v1+cell": {
     "cellMetadata": {
      "byteLimit": 2048000,
      "rowLimit": 10000
     },
     "inputWidgets": {},
     "nuid": "1bbff5e2-f950-4dcb-aa79-9bbe354db028",
     "showTitle": false,
     "title": ""
    }
   },
   "outputs": [
    {
     "name": "stdout",
     "output_type": "stream",
     "text": [
      "+--------------------+----------+\n",
      "|Independent_Features|total_bill|\n",
      "+--------------------+----------+\n",
      "|[52.0,10.5,0.0,1....|        19|\n",
      "|(6,[0,1],[45.0,11...|        90|\n",
      "|[45.0,5.0,0.0,1.0...|        52|\n",
      "|[9.0,11.5,0.0,0.0...|        62|\n",
      "|[51.0,6.5,1.0,1.0...|        78|\n",
      "|[74.0,9.0,1.0,0.0...|        31|\n",
      "|[95.0,6.5,0.0,0.0...|         9|\n",
      "|[33.0,10.0,0.0,0....|         8|\n",
      "|[23.0,9.0,0.0,1.0...|        95|\n",
      "|[14.0,9.5,0.0,0.0...|        93|\n",
      "|[94.0,6.5,0.0,0.0...|        54|\n",
      "|[82.0,10.0,1.0,0....|        86|\n",
      "|[58.0,11.0,0.0,1....|        29|\n",
      "|[90.0,9.0,1.0,1.0...|        55|\n",
      "|[95.0,10.5,1.0,1....|         8|\n",
      "|[16.0,8.5,1.0,0.0...|        94|\n",
      "|[69.0,9.0,1.0,0.0...|        92|\n",
      "|[73.0,5.5,0.0,0.0...|        61|\n",
      "|[73.0,9.5,0.0,1.0...|        17|\n",
      "|[88.0,10.0,1.0,0....|        45|\n",
      "+--------------------+----------+\n",
      "\n"
     ]
    }
   ],
   "source": [
    "finalized_data=output.select(\"Independent_Features\", \"total_bill\")\n",
    "finalized_data.show()"
   ]
  },
  {
   "cell_type": "code",
   "execution_count": 0,
   "metadata": {
    "application/vnd.databricks.v1+cell": {
     "cellMetadata": {
      "byteLimit": 2048000,
      "rowLimit": 10000
     },
     "inputWidgets": {},
     "nuid": "3f932de1-b088-4212-8724-d6d8f2171634",
     "showTitle": false,
     "title": ""
    }
   },
   "outputs": [],
   "source": [
    "from pyspark.ml.regression import LinearRegression\n",
    "#train test split\n",
    "train_data, test_data=finalized_data.randomSplit([0.75, 0.25])\n",
    "regressor=LinearRegression(featuresCol='Independent_Features', labelCol='total_bill')\n",
    "regressor=regressor.fit(train_data)"
   ]
  },
  {
   "cell_type": "code",
   "execution_count": 0,
   "metadata": {
    "application/vnd.databricks.v1+cell": {
     "cellMetadata": {
      "byteLimit": 2048000,
      "rowLimit": 10000
     },
     "inputWidgets": {},
     "nuid": "98c03c73-3006-4e8b-ae2f-2870b4ad608c",
     "showTitle": false,
     "title": ""
    }
   },
   "outputs": [
    {
     "data": {
      "text/plain": [
       "DenseVector([-0.6654, -4.7443, 26.0501, -13.5714, -4.3397, 1.4173])"
      ]
     },
     "execution_count": 24,
     "metadata": {},
     "output_type": "execute_result"
    }
   ],
   "source": [
    "regressor.coefficients"
   ]
  },
  {
   "cell_type": "code",
   "execution_count": 0,
   "metadata": {
    "application/vnd.databricks.v1+cell": {
     "cellMetadata": {
      "byteLimit": 2048000,
      "rowLimit": 10000
     },
     "inputWidgets": {},
     "nuid": "26640178-8d96-41c8-8c11-82917eaeab77",
     "showTitle": false,
     "title": ""
    }
   },
   "outputs": [
    {
     "data": {
      "text/plain": [
       "136.91328686775245"
      ]
     },
     "execution_count": 25,
     "metadata": {},
     "output_type": "execute_result"
    }
   ],
   "source": [
    "regressor.intercept"
   ]
  },
  {
   "cell_type": "code",
   "execution_count": 0,
   "metadata": {
    "application/vnd.databricks.v1+cell": {
     "cellMetadata": {
      "byteLimit": 2048000,
      "rowLimit": 10000
     },
     "inputWidgets": {},
     "nuid": "0b900e0f-e8a7-48f9-a595-f80056c75c22",
     "showTitle": false,
     "title": ""
    }
   },
   "outputs": [
    {
     "name": "stdout",
     "output_type": "stream",
     "text": [
      "+--------------------+----------+------------------+\n",
      "|Independent_Features|total_bill|        prediction|\n",
      "+--------------------+----------+------------------+\n",
      "|[16.0,8.5,1.0,0.0...|        94|100.38949406918208|\n",
      "|[69.0,9.0,1.0,0.0...|        92| 74.35481801810883|\n",
      "+--------------------+----------+------------------+\n",
      "\n"
     ]
    }
   ],
   "source": [
    "#predictions\n",
    "pred_results=regressor.evaluate(test_data)\n",
    "pred_results.predictions.show()\n"
   ]
  },
  {
   "cell_type": "code",
   "execution_count": 0,
   "metadata": {
    "application/vnd.databricks.v1+cell": {
     "cellMetadata": {
      "byteLimit": 2048000,
      "rowLimit": 10000
     },
     "inputWidgets": {},
     "nuid": "dd455915-9978-48f1-9c16-c93bac9e5ce6",
     "showTitle": false,
     "title": ""
    }
   },
   "outputs": [
    {
     "data": {
      "text/plain": [
       "(-175.08904081708488, 12.017338025536624, 176.08904081708488)"
      ]
     },
     "execution_count": 27,
     "metadata": {},
     "output_type": "execute_result"
    }
   ],
   "source": [
    "pred_results.r2, pred_results.meanAbsoluteError, pred_results.meanSquaredError"
   ]
  },
  {
   "cell_type": "code",
   "execution_count": 0,
   "metadata": {
    "application/vnd.databricks.v1+cell": {
     "cellMetadata": {},
     "inputWidgets": {},
     "nuid": "44786ed0-2694-4e77-8ff7-4182f3204122",
     "showTitle": false,
     "title": ""
    }
   },
   "outputs": [],
   "source": []
  }
 ],
 "metadata": {
  "application/vnd.databricks.v1+notebook": {
   "dashboards": [],
   "language": "python",
   "notebookMetadata": {
    "pythonIndentUnit": 4
   },
   "notebookName": "Linear Regression PYSPARK",
   "widgets": {}
  },
  "kernelspec": {
   "display_name": "Python 3 (ipykernel)",
   "language": "python",
   "name": "python3"
  },
  "language_info": {
   "codemirror_mode": {
    "name": "ipython",
    "version": 3
   },
   "file_extension": ".py",
   "mimetype": "text/x-python",
   "name": "python",
   "nbconvert_exporter": "python",
   "pygments_lexer": "ipython3",
   "version": "3.11.5"
  }
 },
 "nbformat": 4,
 "nbformat_minor": 1
}
