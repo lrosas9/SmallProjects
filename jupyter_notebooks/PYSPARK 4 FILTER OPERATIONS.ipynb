{
 "cells": [
  {
   "cell_type": "code",
   "execution_count": 1,
   "id": "739f3459",
   "metadata": {},
   "outputs": [],
   "source": [
    "from pyspark.sql import SparkSession"
   ]
  },
  {
   "cell_type": "code",
   "execution_count": 3,
   "id": "24df5ca6",
   "metadata": {},
   "outputs": [],
   "source": [
    "spark=SparkSession.builder.appName('dataframes').getOrCreate()"
   ]
  },
  {
   "cell_type": "code",
   "execution_count": 6,
   "id": "30df108e",
   "metadata": {},
   "outputs": [
    {
     "name": "stdout",
     "output_type": "stream",
     "text": [
      "+-----+----+----------+\n",
      "| Name| Age|experience|\n",
      "+-----+----+----------+\n",
      "|edgar|  30|         1|\n",
      "|flaco|  29|         2|\n",
      "|rojas|  32|         3|\n",
      "| alan|  28|         4|\n",
      "| null|null|      null|\n",
      "+-----+----+----------+\n",
      "\n"
     ]
    }
   ],
   "source": [
    "dframe=spark.read.csv('test1.csv', header=True, inferSchema=True)\n",
    "dframe.show()"
   ]
  },
  {
   "cell_type": "code",
   "execution_count": 11,
   "id": "9c66d77b",
   "metadata": {},
   "outputs": [],
   "source": [
    "dframe=dframe.withColumn(\"Salary\", dframe['experience']*10000) "
   ]
  },
  {
   "cell_type": "code",
   "execution_count": 12,
   "id": "ee877e63",
   "metadata": {
    "scrolled": true
   },
   "outputs": [
    {
     "name": "stdout",
     "output_type": "stream",
     "text": [
      "+-----+----+----------+------+\n",
      "| Name| Age|experience|Salary|\n",
      "+-----+----+----------+------+\n",
      "|edgar|  30|         1| 10000|\n",
      "|flaco|  29|         2| 20000|\n",
      "|rojas|  32|         3| 30000|\n",
      "| alan|  28|         4| 40000|\n",
      "| null|null|      null|  null|\n",
      "+-----+----+----------+------+\n",
      "\n"
     ]
    }
   ],
   "source": [
    "dframe.show()"
   ]
  },
  {
   "cell_type": "code",
   "execution_count": 14,
   "id": "b6e3585e",
   "metadata": {},
   "outputs": [
    {
     "name": "stdout",
     "output_type": "stream",
     "text": [
      "+-----+---+----------+------+\n",
      "| Name|Age|experience|Salary|\n",
      "+-----+---+----------+------+\n",
      "|edgar| 30|         1| 10000|\n",
      "|flaco| 29|         2| 20000|\n",
      "+-----+---+----------+------+\n",
      "\n"
     ]
    }
   ],
   "source": [
    "#Salary of people that is less than or equal to 20000\n",
    "dframe.filter(\"Salary<=20000\").show()"
   ]
  },
  {
   "cell_type": "code",
   "execution_count": 18,
   "id": "b5777b1e",
   "metadata": {},
   "outputs": [
    {
     "name": "stdout",
     "output_type": "stream",
     "text": [
      "+-----+---+----------+------+\n",
      "| Name|Age|experience|Salary|\n",
      "+-----+---+----------+------+\n",
      "|edgar| 30|         1| 10000|\n",
      "+-----+---+----------+------+\n",
      "\n"
     ]
    }
   ],
   "source": [
    "#dframe.filter(\"Salary<=20000\").select(['Name', 'Age']).show()\n",
    "dframe.filter((dframe['Salary']<=20000) & \n",
    "              (dframe['Age']>=30)).show()"
   ]
  },
  {
   "cell_type": "code",
   "execution_count": 20,
   "id": "c60d43ca",
   "metadata": {},
   "outputs": [
    {
     "name": "stdout",
     "output_type": "stream",
     "text": [
      "+----+---+----------+------+\n",
      "|Name|Age|experience|Salary|\n",
      "+----+---+----------+------+\n",
      "|alan| 28|         4| 40000|\n",
      "+----+---+----------+------+\n",
      "\n"
     ]
    }
   ],
   "source": [
    "dframe.filter(~(dframe['Salary']<=20000) & \n",
    "              ~(dframe['Age']>=30)).show()"
   ]
  }
 ],
 "metadata": {
  "kernelspec": {
   "display_name": "Python 3 (ipykernel)",
   "language": "python",
   "name": "python3"
  },
  "language_info": {
   "codemirror_mode": {
    "name": "ipython",
    "version": 3
   },
   "file_extension": ".py",
   "mimetype": "text/x-python",
   "name": "python",
   "nbconvert_exporter": "python",
   "pygments_lexer": "ipython3",
   "version": "3.11.5"
  }
 },
 "nbformat": 4,
 "nbformat_minor": 5
}
