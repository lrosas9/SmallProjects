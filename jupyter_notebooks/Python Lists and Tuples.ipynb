{
 "cells": [
  {
   "cell_type": "code",
   "execution_count": 18,
   "id": "d7fa54df",
   "metadata": {},
   "outputs": [
    {
     "data": {
      "text/plain": [
       "['Amy', 'Bob']"
      ]
     },
     "execution_count": 18,
     "metadata": {},
     "output_type": "execute_result"
    }
   ],
   "source": [
    "new_list = ['Amy' , 'Bob', 'Charlie', 'Daisy']\n",
    "#new_list[0]\n",
    "new_list[0:-2]"
   ]
  },
  {
   "cell_type": "code",
   "execution_count": 7,
   "id": "7fc2e6df",
   "metadata": {},
   "outputs": [
    {
     "data": {
      "text/plain": [
       "['Toyota Camry', 'Honda Accord', 'Honda Civic', 'Toyota Corolla']"
      ]
     },
     "execution_count": 7,
     "metadata": {},
     "output_type": "execute_result"
    }
   ],
   "source": [
    "list_str = ['Toyota Camry', 'Honda Accord', 'Honda Civic', 'Toyota Corolla']\n",
    "list_str"
   ]
  },
  {
   "cell_type": "code",
   "execution_count": 22,
   "id": "5ccebc08",
   "metadata": {},
   "outputs": [
    {
     "data": {
      "text/plain": [
       "list"
      ]
     },
     "execution_count": 22,
     "metadata": {},
     "output_type": "execute_result"
    }
   ],
   "source": [
    "type(list_str)"
   ]
  },
  {
   "cell_type": "code",
   "execution_count": 23,
   "id": "3e908ef7",
   "metadata": {},
   "outputs": [
    {
     "name": "stdout",
     "output_type": "stream",
     "text": [
      "Honda Accord\n"
     ]
    }
   ],
   "source": [
    "print(list_str[1])"
   ]
  },
  {
   "cell_type": "code",
   "execution_count": 5,
   "id": "7ab0271c",
   "metadata": {},
   "outputs": [
    {
     "ename": "IndexError",
     "evalue": "list assignment index out of range",
     "output_type": "error",
     "traceback": [
      "\u001b[1;31m---------------------------------------------------------------------------\u001b[0m",
      "\u001b[1;31mIndexError\u001b[0m                                Traceback (most recent call last)",
      "Cell \u001b[1;32mIn[5], line 1\u001b[0m\n\u001b[1;32m----> 1\u001b[0m list_str[\u001b[38;5;241m4\u001b[39m] \u001b[38;5;241m=\u001b[39m \u001b[38;5;124m\"\u001b[39m\u001b[38;5;124mHYUNDAI ELANTRA\u001b[39m\u001b[38;5;124m\"\u001b[39m\n",
      "\u001b[1;31mIndexError\u001b[0m: list assignment index out of range"
     ]
    }
   ],
   "source": [
    "list_str[4] = \"HYUNDAI ELANTRA\""
   ]
  },
  {
   "cell_type": "code",
   "execution_count": 8,
   "id": "0276b60b",
   "metadata": {},
   "outputs": [],
   "source": [
    "list_str.append('HYUNDAI ELANTRA')"
   ]
  },
  {
   "cell_type": "code",
   "execution_count": 18,
   "id": "b0358076",
   "metadata": {},
   "outputs": [
    {
     "data": {
      "text/plain": [
       "['Toyota Camry',\n",
       " 'Honda Accord',\n",
       " 'Honda Civic',\n",
       " 'Toyota Corolla',\n",
       " 'HYUNDAI ELANTRA',\n",
       " 'Nissan Altima',\n",
       " 'Ford Fusion',\n",
       " 'Kia Optima',\n",
       " 'Kia Sportage']"
      ]
     },
     "execution_count": 18,
     "metadata": {},
     "output_type": "execute_result"
    }
   ],
   "source": [
    "list_str"
   ]
  },
  {
   "cell_type": "code",
   "execution_count": 10,
   "id": "1fde6739",
   "metadata": {},
   "outputs": [
    {
     "ename": "TypeError",
     "evalue": "list.append() takes exactly one argument (2 given)",
     "output_type": "error",
     "traceback": [
      "\u001b[1;31m---------------------------------------------------------------------------\u001b[0m",
      "\u001b[1;31mTypeError\u001b[0m                                 Traceback (most recent call last)",
      "Cell \u001b[1;32mIn[10], line 1\u001b[0m\n\u001b[1;32m----> 1\u001b[0m list_str\u001b[38;5;241m.\u001b[39mappend(\u001b[38;5;124m'\u001b[39m\u001b[38;5;124mHYUNDAI ELANTRA\u001b[39m\u001b[38;5;124m'\u001b[39m,\u001b[38;5;124m'\u001b[39m\u001b[38;5;124mFord Fusion\u001b[39m\u001b[38;5;124m'\u001b[39m)\n",
      "\u001b[1;31mTypeError\u001b[0m: list.append() takes exactly one argument (2 given)"
     ]
    }
   ],
   "source": [
    "list_str.append('HYUNDAI ELANTRA','Ford Fusion')"
   ]
  },
  {
   "cell_type": "code",
   "execution_count": 11,
   "id": "f445862d",
   "metadata": {},
   "outputs": [],
   "source": [
    "list_str.insert(6, 'Ford Fusion')"
   ]
  },
  {
   "cell_type": "code",
   "execution_count": 13,
   "id": "3fb78b68",
   "metadata": {},
   "outputs": [],
   "source": [
    "list_str.insert(5, 'Nissan Altima')"
   ]
  },
  {
   "cell_type": "code",
   "execution_count": 17,
   "id": "b50b195a",
   "metadata": {},
   "outputs": [],
   "source": [
    "list_str.extend(['Kia Optima', 'Kia Sportage'])"
   ]
  },
  {
   "cell_type": "code",
   "execution_count": 19,
   "id": "d92df40c",
   "metadata": {},
   "outputs": [
    {
     "data": {
      "text/plain": [
       "['Hennesey Venom', 'Lamborghino Huracan', 'Aston Martin DB9']"
      ]
     },
     "execution_count": 19,
     "metadata": {},
     "output_type": "execute_result"
    }
   ],
   "source": [
    "list_str2 = ['Hennesey Venom', 'Lamborghino Huracan', 'Aston Martin DB9']\n",
    "list_str2"
   ]
  },
  {
   "cell_type": "code",
   "execution_count": 20,
   "id": "c745d916",
   "metadata": {},
   "outputs": [
    {
     "data": {
      "text/plain": [
       "['Toyota Camry',\n",
       " 'Honda Accord',\n",
       " 'Honda Civic',\n",
       " 'Toyota Corolla',\n",
       " 'HYUNDAI ELANTRA',\n",
       " 'Nissan Altima',\n",
       " 'Ford Fusion',\n",
       " 'Kia Optima',\n",
       " 'Kia Sportage',\n",
       " 'Hennesey Venom',\n",
       " 'Lamborghino Huracan',\n",
       " 'Aston Martin DB9']"
      ]
     },
     "execution_count": 20,
     "metadata": {},
     "output_type": "execute_result"
    }
   ],
   "source": [
    "comp_list = list_str + list_str2\n",
    "comp_list"
   ]
  },
  {
   "cell_type": "code",
   "execution_count": 22,
   "id": "cf432f43",
   "metadata": {},
   "outputs": [
    {
     "data": {
      "text/plain": [
       "0"
      ]
     },
     "execution_count": 22,
     "metadata": {},
     "output_type": "execute_result"
    }
   ],
   "source": [
    "comp_list.index('Toyota Camry')"
   ]
  },
  {
   "cell_type": "code",
   "execution_count": 23,
   "id": "65e3702e",
   "metadata": {},
   "outputs": [],
   "source": [
    "comp_list.remove('Toyota Corolla')"
   ]
  },
  {
   "cell_type": "code",
   "execution_count": null,
   "id": "22744cb2",
   "metadata": {},
   "outputs": [],
   "source": [
    "comp_list.index('Toyota Camry')"
   ]
  }
 ],
 "metadata": {
  "kernelspec": {
   "display_name": "Python 3 (ipykernel)",
   "language": "python",
   "name": "python3"
  },
  "language_info": {
   "codemirror_mode": {
    "name": "ipython",
    "version": 3
   },
   "file_extension": ".py",
   "mimetype": "text/x-python",
   "name": "python",
   "nbconvert_exporter": "python",
   "pygments_lexer": "ipython3",
   "version": "3.11.5"
  }
 },
 "nbformat": 4,
 "nbformat_minor": 5
}
