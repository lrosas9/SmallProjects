{
 "cells": [
  {
   "cell_type": "markdown",
   "metadata": {},
   "source": [
    "# AWS Glue Studio Notebook\n",
    "##### You are now running a AWS Glue Studio notebook; To start using your notebook you need to start an AWS Glue Interactive Session.\n"
   ]
  },
  {
   "cell_type": "markdown",
   "metadata": {},
   "source": [
    "#### Optional: Run this cell to see available notebook commands (\"magics\").\n"
   ]
  },
  {
   "cell_type": "markdown",
   "metadata": {},
   "source": [
    "####  Run this cell to set up and start your interactive session.\n"
   ]
  },
  {
   "cell_type": "code",
   "execution_count": 1,
   "metadata": {},
   "outputs": [
    {
     "name": "stdout",
     "output_type": "stream",
     "text": [
      "Welcome to the Glue Interactive Sessions Kernel\n",
      "For more information on available magic commands, please type %help in any new cell.\n",
      "\n",
      "Please view our Getting Started page to access the most up-to-date information on the Interactive Sessions kernel: https://docs.aws.amazon.com/glue/latest/dg/interactive-sessions.html\n",
      "Installed kernel version: 1.0.4 \n",
      "Trying to create a Glue session for the kernel.\n",
      "Session Type: glueetl\n",
      "Worker Type: G.1X\n",
      "Number of Workers: 5\n",
      "Session ID: dfd50663-7e30-4468-8f4c-f0abe45b8556\n",
      "Applying the following default arguments:\n",
      "--glue_kernel_version 1.0.4\n",
      "--enable-glue-datacatalog true\n",
      "Waiting for session dfd50663-7e30-4468-8f4c-f0abe45b8556 to get into ready status...\n",
      "Session dfd50663-7e30-4468-8f4c-f0abe45b8556 has been created.\n",
      "\n"
     ]
    }
   ],
   "source": [
    "\n",
    "import sys\n",
    "from awsglue.transforms import *\n",
    "from awsglue.utils import getResolvedOptions\n",
    "from pyspark.context import SparkContext\n",
    "from awsglue.context import GlueContext\n",
    "from awsglue.job import Job\n",
    "  \n",
    "sc = SparkContext.getOrCreate()\n",
    "glueContext = GlueContext(sc)\n",
    "spark = glueContext.spark_session\n",
    "job = Job(glueContext)"
   ]
  },
  {
   "cell_type": "code",
   "execution_count": 5,
   "metadata": {
    "tags": []
   },
   "outputs": [
    {
     "name": "stdout",
     "output_type": "stream",
     "text": [
      "\n"
     ]
    }
   ],
   "source": [
    "dynamicFrameCustomers = glueContext.create_dynamic_frame.from_catalog(\n",
    "database = \"pyspark_tutorial_db\", \n",
    "table_name = \"customers\"\n",
    ")"
   ]
  },
  {
   "cell_type": "code",
   "execution_count": 6,
   "metadata": {
    "tags": []
   },
   "outputs": [
    {
     "name": "stdout",
     "output_type": "stream",
     "text": [
      "{\"customerid\": 293, \"firstname\": \"Catherine\", \"lastname\": \"Abel\", \"fullname\": \"Catherine Abel\"}\n",
      "{\"customerid\": 295, \"firstname\": \"Kim\", \"lastname\": \"Abercrombie\", \"fullname\": \"Kim Abercrombie\"}\n",
      "{\"customerid\": 297, \"firstname\": \"Humberto\", \"lastname\": \"Acevedo\", \"fullname\": \"Humberto Acevedo\"}\n",
      "{\"customerid\": 291, \"firstname\": \"Gustavo\", \"lastname\": \"Achong\", \"fullname\": \"Gustavo Achong\"}\n",
      "{\"customerid\": 299, \"firstname\": \"Pilar\", \"lastname\": \"Ackerman\", \"fullname\": \"Pilar Ackerman\"}\n",
      "{\"customerid\": 305, \"firstname\": \"Carla\", \"lastname\": \"Adams\", \"fullname\": \"Carla Adams\"}\n",
      "{\"customerid\": 301, \"firstname\": \"Frances\", \"lastname\": \"Adams\", \"fullname\": \"Frances Adams\"}\n",
      "{\"customerid\": 307, \"firstname\": \"Jay\", \"lastname\": \"Adams\", \"fullname\": \"Jay Adams\"}\n",
      "{\"customerid\": 309, \"firstname\": \"Ronald\", \"lastname\": \"Adina\", \"fullname\": \"Ronald Adina\"}\n",
      "{\"customerid\": 311, \"firstname\": \"Samuel\", \"lastname\": \"Agcaoili\", \"fullname\": \"Samuel Agcaoili\"}\n"
     ]
    }
   ],
   "source": [
    "dynamicFrameCustomers.show(10)"
   ]
  },
  {
   "cell_type": "code",
   "execution_count": 7,
   "metadata": {
    "tags": []
   },
   "outputs": [
    {
     "name": "stdout",
     "output_type": "stream",
     "text": [
      "root\n",
      "|-- customerid: long\n",
      "|-- firstname: string\n",
      "|-- lastname: string\n",
      "|-- fullname: string\n"
     ]
    }
   ],
   "source": [
    "# Check types in dynamic frame\n",
    "dynamicFrameCustomers.printSchema()"
   ]
  },
  {
   "cell_type": "code",
   "execution_count": 9,
   "metadata": {
    "tags": []
   },
   "outputs": [
    {
     "name": "stdout",
     "output_type": "stream",
     "text": [
      "635\n"
     ]
    }
   ],
   "source": [
    "# Count The Number of Rows in a Dynamic Dataframe \n",
    "dynamicFrameCustomers.count()"
   ]
  },
  {
   "cell_type": "code",
   "execution_count": 10,
   "metadata": {
    "tags": []
   },
   "outputs": [
    {
     "name": "stdout",
     "output_type": "stream",
     "text": [
      "{\"customerid\": 293, \"fullname\": \"Catherine Abel\"}\n",
      "{\"customerid\": 295, \"fullname\": \"Kim Abercrombie\"}\n",
      "{\"customerid\": 297, \"fullname\": \"Humberto Acevedo\"}\n",
      "{\"customerid\": 291, \"fullname\": \"Gustavo Achong\"}\n",
      "{\"customerid\": 299, \"fullname\": \"Pilar Ackerman\"}\n",
      "{\"customerid\": 305, \"fullname\": \"Carla Adams\"}\n",
      "{\"customerid\": 301, \"fullname\": \"Frances Adams\"}\n",
      "{\"customerid\": 307, \"fullname\": \"Jay Adams\"}\n",
      "{\"customerid\": 309, \"fullname\": \"Ronald Adina\"}\n",
      "{\"customerid\": 311, \"fullname\": \"Samuel Agcaoili\"}\n"
     ]
    }
   ],
   "source": [
    "# Selecting certain fields from a Dynamic DataFrame\n",
    "dyfCustomerSelectFields = dynamicFrameCustomers.select_fields([\"customerid\", \"fullname\"])\n",
    "\n",
    "# Show top 10\n",
    "dyfCustomerSelectFields.show(10)"
   ]
  },
  {
   "cell_type": "code",
   "execution_count": 11,
   "metadata": {
    "tags": []
   },
   "outputs": [
    {
     "name": "stdout",
     "output_type": "stream",
     "text": [
      "{\"customerid\": 293, \"fullname\": \"Catherine Abel\"}\n",
      "{\"customerid\": 295, \"fullname\": \"Kim Abercrombie\"}\n",
      "{\"customerid\": 297, \"fullname\": \"Humberto Acevedo\"}\n",
      "{\"customerid\": 291, \"fullname\": \"Gustavo Achong\"}\n",
      "{\"customerid\": 299, \"fullname\": \"Pilar Ackerman\"}\n",
      "{\"customerid\": 305, \"fullname\": \"Carla Adams\"}\n",
      "{\"customerid\": 301, \"fullname\": \"Frances Adams\"}\n",
      "{\"customerid\": 307, \"fullname\": \"Jay Adams\"}\n",
      "{\"customerid\": 309, \"fullname\": \"Ronald Adina\"}\n",
      "{\"customerid\": 311, \"fullname\": \"Samuel Agcaoili\"}\n"
     ]
    }
   ],
   "source": [
    "# Selecting certain fields from a Dynamic DataFrame\n",
    "dyfCustomerSelectFields = dynamicFrameCustomers.select_fields([\"customerid\", \"fullname\"])\n",
    "\n",
    "# Show top 10\n",
    "dyfCustomerSelectFields.show(10)"
   ]
  },
  {
   "cell_type": "code",
   "execution_count": 13,
   "metadata": {
    "tags": []
   },
   "outputs": [
    {
     "name": "stdout",
     "output_type": "stream",
     "text": [
      "{\"customerid\": 293, \"fullname\": \"Catherine Abel\"}\n",
      "{\"customerid\": 295, \"fullname\": \"Kim Abercrombie\"}\n",
      "{\"customerid\": 297, \"fullname\": \"Humberto Acevedo\"}\n",
      "{\"customerid\": 291, \"fullname\": \"Gustavo Achong\"}\n",
      "{\"customerid\": 299, \"fullname\": \"Pilar Ackerman\"}\n",
      "{\"customerid\": 305, \"fullname\": \"Carla Adams\"}\n",
      "{\"customerid\": 301, \"fullname\": \"Frances Adams\"}\n",
      "{\"customerid\": 307, \"fullname\": \"Jay Adams\"}\n",
      "{\"customerid\": 309, \"fullname\": \"Ronald Adina\"}\n",
      "{\"customerid\": 311, \"fullname\": \"Samuel Agcaoili\"}\n"
     ]
    }
   ],
   "source": [
    "#Drop Fields of Dynamic Frame\n",
    "dyfCustomerDropFields = dynamicFrameCustomers.drop_fields([\"firstname\",\"lastname\"])\n",
    "\n",
    "# Show Top 10 rows of dyfCustomerDropFields Dynamic Frame\n",
    "dyfCustomerDropFields.show(10)"
   ]
  },
  {
   "cell_type": "code",
   "execution_count": 14,
   "metadata": {
    "tags": []
   },
   "outputs": [
    {
     "name": "stdout",
     "output_type": "stream",
     "text": [
      "{\"customerid\": 293, \"name\": \"Catherine Abel\"}\n",
      "{\"customerid\": 295, \"name\": \"Kim Abercrombie\"}\n",
      "{\"customerid\": 297, \"name\": \"Humberto Acevedo\"}\n",
      "{\"customerid\": 291, \"name\": \"Gustavo Achong\"}\n",
      "{\"customerid\": 299, \"name\": \"Pilar Ackerman\"}\n",
      "{\"customerid\": 305, \"name\": \"Carla Adams\"}\n",
      "{\"customerid\": 301, \"name\": \"Frances Adams\"}\n",
      "{\"customerid\": 307, \"name\": \"Jay Adams\"}\n",
      "{\"customerid\": 309, \"name\": \"Ronald Adina\"}\n",
      "{\"customerid\": 311, \"name\": \"Samuel Agcaoili\"}\n"
     ]
    }
   ],
   "source": [
    "# Mapping array for column rename fullname -> name\n",
    "mapping=[(\"customerid\", \"long\", \"customerid\",\"long\"),(\"fullname\", \"string\", \"name\", \"string\")]\n",
    "\n",
    "# Apply the mapping to rename fullname -> name\n",
    "dfyMapping = ApplyMapping.apply(\n",
    "                                frame = dyfCustomerDropFields, \n",
    "                                mappings = mapping, \n",
    "                                transformation_ctx = \"applymapping1\"\n",
    "                                )\n",
    "\n",
    "# show the new dynamic frame with name column \n",
    "dfyMapping.show(10)"
   ]
  },
  {
   "cell_type": "code",
   "execution_count": 15,
   "metadata": {
    "tags": []
   },
   "outputs": [
    {
     "name": "stdout",
     "output_type": "stream",
     "text": [
      "{\"lastname\": \"Adams\", \"firstname\": \"Carla\", \"customerid\": 305, \"fullname\": \"Carla Adams\"}\n",
      "{\"lastname\": \"Adams\", \"firstname\": \"Frances\", \"customerid\": 301, \"fullname\": \"Frances Adams\"}\n",
      "{\"lastname\": \"Adams\", \"firstname\": \"Jay\", \"customerid\": 307, \"fullname\": \"Jay Adams\"}\n"
     ]
    }
   ],
   "source": [
    "# Filter dynamicFrameCustomers for customers who have the last name Adams\n",
    "dyfFilter=  Filter.apply(frame = dynamicFrameCustomers, \n",
    "                                        f = lambda x: x[\"lastname\"] in \"Adams\"\n",
    "                                    )\n",
    "\n",
    "# Show the top 10 customers  from the filtered Dynamic frame \n",
    "dyfFilter.show(10)"
   ]
  },
  {
   "cell_type": "code",
   "execution_count": 16,
   "metadata": {
    "tags": []
   },
   "outputs": [
    {
     "name": "stdout",
     "output_type": "stream",
     "text": [
      "{\"salesorderid\": 43659, \"salesorderdetailid\": 1, \"orderdate\": \"5/31/2011\", \"duedate\": \"6/12/2011\", \"shipdate\": \"6/7/2011\", \"employeeid\": 279, \"customerid\": 1045, \"subtotal\": 20565.6206, \"taxamt\": 1971.5149, \"freight\": 616.0984, \"totaldue\": 23153.2339, \"productid\": 776, \"orderqty\": 1, \"unitprice\": 2024.9940, \"unitpricediscount\": 0.0000, \"linetotal\": 2024.9940}\n",
      "{\"salesorderid\": 43659, \"salesorderdetailid\": 2, \"orderdate\": \"5/31/2011\", \"duedate\": \"6/12/2011\", \"shipdate\": \"6/7/2011\", \"employeeid\": 279, \"customerid\": 1045, \"subtotal\": 20565.6206, \"taxamt\": 1971.5149, \"freight\": 616.0984, \"totaldue\": 23153.2339, \"productid\": 777, \"orderqty\": 3, \"unitprice\": 2024.9940, \"unitpricediscount\": 0.0000, \"linetotal\": 6074.9820}\n",
      "{\"salesorderid\": 43659, \"salesorderdetailid\": 3, \"orderdate\": \"5/31/2011\", \"duedate\": \"6/12/2011\", \"shipdate\": \"6/7/2011\", \"employeeid\": 279, \"customerid\": 1045, \"subtotal\": 20565.6206, \"taxamt\": 1971.5149, \"freight\": 616.0984, \"totaldue\": 23153.2339, \"productid\": 778, \"orderqty\": 1, \"unitprice\": 2024.9940, \"unitpricediscount\": 0.0000, \"linetotal\": 2024.9940}\n",
      "{\"salesorderid\": 43659, \"salesorderdetailid\": 4, \"orderdate\": \"5/31/2011\", \"duedate\": \"6/12/2011\", \"shipdate\": \"6/7/2011\", \"employeeid\": 279, \"customerid\": 1045, \"subtotal\": 20565.6206, \"taxamt\": 1971.5149, \"freight\": 616.0984, \"totaldue\": 23153.2339, \"productid\": 771, \"orderqty\": 1, \"unitprice\": 2039.9940, \"unitpricediscount\": 0.0000, \"linetotal\": 2039.9940}\n",
      "{\"salesorderid\": 43659, \"salesorderdetailid\": 5, \"orderdate\": \"5/31/2011\", \"duedate\": \"6/12/2011\", \"shipdate\": \"6/7/2011\", \"employeeid\": 279, \"customerid\": 1045, \"subtotal\": 20565.6206, \"taxamt\": 1971.5149, \"freight\": 616.0984, \"totaldue\": 23153.2339, \"productid\": 772, \"orderqty\": 1, \"unitprice\": 2039.9940, \"unitpricediscount\": 0.0000, \"linetotal\": 2039.9940}\n",
      "{\"salesorderid\": 43659, \"salesorderdetailid\": 6, \"orderdate\": \"5/31/2011\", \"duedate\": \"6/12/2011\", \"shipdate\": \"6/7/2011\", \"employeeid\": 279, \"customerid\": 1045, \"subtotal\": 20565.6206, \"taxamt\": 1971.5149, \"freight\": 616.0984, \"totaldue\": 23153.2339, \"productid\": 773, \"orderqty\": 2, \"unitprice\": 2039.9940, \"unitpricediscount\": 0.0000, \"linetotal\": 4079.9880}\n",
      "{\"salesorderid\": 43659, \"salesorderdetailid\": 7, \"orderdate\": \"5/31/2011\", \"duedate\": \"6/12/2011\", \"shipdate\": \"6/7/2011\", \"employeeid\": 279, \"customerid\": 1045, \"subtotal\": 20565.6206, \"taxamt\": 1971.5149, \"freight\": 616.0984, \"totaldue\": 23153.2339, \"productid\": 774, \"orderqty\": 1, \"unitprice\": 2039.9940, \"unitpricediscount\": 0.0000, \"linetotal\": 2039.9940}\n",
      "{\"salesorderid\": 43659, \"salesorderdetailid\": 8, \"orderdate\": \"5/31/2011\", \"duedate\": \"6/12/2011\", \"shipdate\": \"6/7/2011\", \"employeeid\": 279, \"customerid\": 1045, \"subtotal\": 20565.6206, \"taxamt\": 1971.5149, \"freight\": 616.0984, \"totaldue\": 23153.2339, \"productid\": 714, \"orderqty\": 3, \"unitprice\": 28.8404, \"unitpricediscount\": 0.0000, \"linetotal\": 86.5212}\n",
      "{\"salesorderid\": 43659, \"salesorderdetailid\": 9, \"orderdate\": \"5/31/2011\", \"duedate\": \"6/12/2011\", \"shipdate\": \"6/7/2011\", \"employeeid\": 279, \"customerid\": 1045, \"subtotal\": 20565.6206, \"taxamt\": 1971.5149, \"freight\": 616.0984, \"totaldue\": 23153.2339, \"productid\": 716, \"orderqty\": 1, \"unitprice\": 28.8404, \"unitpricediscount\": 0.0000, \"linetotal\": 28.8404}\n",
      "{\"salesorderid\": 43659, \"salesorderdetailid\": 10, \"orderdate\": \"5/31/2011\", \"duedate\": \"6/12/2011\", \"shipdate\": \"6/7/2011\", \"employeeid\": 279, \"customerid\": 1045, \"subtotal\": 20565.6206, \"taxamt\": 1971.5149, \"freight\": 616.0984, \"totaldue\": 23153.2339, \"productid\": 709, \"orderqty\": 6, \"unitprice\": 5.7000, \"unitpricediscount\": 0.0000, \"linetotal\": 34.2000}\n"
     ]
    }
   ],
   "source": [
    "# Read from the customers table in the glue data catalog using a dynamic frame\n",
    "dynamicFrameOrders = glueContext.create_dynamic_frame.from_catalog(\n",
    "database = \"pyspark_tutorial_db\", \n",
    "table_name = \"orders\"\n",
    ")\n",
    "\n",
    "# show top 10 rows of orders table\n",
    "dynamicFrameOrders.show(10)"
   ]
  },
  {
   "cell_type": "code",
   "execution_count": 17,
   "metadata": {
    "tags": []
   },
   "outputs": [
    {
     "name": "stdout",
     "output_type": "stream",
     "text": [
      "{\"freight\": 181.0019, \"subtotal\": 6035.8246, \"salesorderdetailid\": 1628, \"productid\": 754, \"linetotal\": 874.7940, \"employeeid\": 277, \".customerid\": 671, \"taxamt\": 579.2061, \"salesorderid\": 44097, \"duedate\": \"8/13/2011\", \"orderqty\": 1, \"shipdate\": \"8/8/2011\", \"lastname\": \"Chapla\", \"firstname\": \"Lee\", \"totaldue\": 6796.0326, \"unitprice\": 874.7940, \"orderdate\": \"8/1/2011\", \"unitpricediscount\": 0.0000, \"customerid\": 671, \"fullname\": \"Lee Chapla\"}\n",
      "{\"freight\": 181.0019, \"subtotal\": 6035.8246, \"salesorderdetailid\": 1629, \"productid\": 760, \"linetotal\": 419.4589, \"employeeid\": 277, \".customerid\": 671, \"taxamt\": 579.2061, \"salesorderid\": 44097, \"duedate\": \"8/13/2011\", \"orderqty\": 1, \"shipdate\": \"8/8/2011\", \"lastname\": \"Chapla\", \"firstname\": \"Lee\", \"totaldue\": 6796.0326, \"unitprice\": 419.4589, \"orderdate\": \"8/1/2011\", \"unitpricediscount\": 0.0000, \"customerid\": 671, \"fullname\": \"Lee Chapla\"}\n",
      "{\"freight\": 181.0019, \"subtotal\": 6035.8246, \"salesorderdetailid\": 1630, \"productid\": 762, \"linetotal\": 838.9178, \"employeeid\": 277, \".customerid\": 671, \"taxamt\": 579.2061, \"salesorderid\": 44097, \"duedate\": \"8/13/2011\", \"orderqty\": 2, \"shipdate\": \"8/8/2011\", \"lastname\": \"Chapla\", \"firstname\": \"Lee\", \"totaldue\": 6796.0326, \"unitprice\": 419.4589, \"orderdate\": \"8/1/2011\", \"unitpricediscount\": 0.0000, \"customerid\": 671, \"fullname\": \"Lee Chapla\"}\n",
      "{\"freight\": 181.0019, \"subtotal\": 6035.8246, \"salesorderdetailid\": 1631, \"productid\": 708, \"linetotal\": 80.7460, \"employeeid\": 277, \".customerid\": 671, \"taxamt\": 579.2061, \"salesorderid\": 44097, \"duedate\": \"8/13/2011\", \"orderqty\": 4, \"shipdate\": \"8/8/2011\", \"lastname\": \"Chapla\", \"firstname\": \"Lee\", \"totaldue\": 6796.0326, \"unitprice\": 20.1865, \"orderdate\": \"8/1/2011\", \"unitpricediscount\": 0.0000, \"customerid\": 671, \"fullname\": \"Lee Chapla\"}\n",
      "{\"freight\": 181.0019, \"subtotal\": 6035.8246, \"salesorderdetailid\": 1632, \"productid\": 715, \"linetotal\": 28.8404, \"employeeid\": 277, \".customerid\": 671, \"taxamt\": 579.2061, \"salesorderid\": 44097, \"duedate\": \"8/13/2011\", \"orderqty\": 1, \"shipdate\": \"8/8/2011\", \"lastname\": \"Chapla\", \"firstname\": \"Lee\", \"totaldue\": 6796.0326, \"unitprice\": 28.8404, \"orderdate\": \"8/1/2011\", \"unitpricediscount\": 0.0000, \"customerid\": 671, \"fullname\": \"Lee Chapla\"}\n",
      "{\"freight\": 181.0019, \"subtotal\": 6035.8246, \"salesorderdetailid\": 1633, \"productid\": 711, \"linetotal\": 80.7460, \"employeeid\": 277, \".customerid\": 671, \"taxamt\": 579.2061, \"salesorderid\": 44097, \"duedate\": \"8/13/2011\", \"orderqty\": 4, \"shipdate\": \"8/8/2011\", \"lastname\": \"Chapla\", \"firstname\": \"Lee\", \"totaldue\": 6796.0326, \"unitprice\": 20.1865, \"orderdate\": \"8/1/2011\", \"unitpricediscount\": 0.0000, \"customerid\": 671, \"fullname\": \"Lee Chapla\"}\n",
      "{\"freight\": 181.0019, \"subtotal\": 6035.8246, \"salesorderdetailid\": 1634, \"productid\": 761, \"linetotal\": 419.4589, \"employeeid\": 277, \".customerid\": 671, \"taxamt\": 579.2061, \"salesorderid\": 44097, \"duedate\": \"8/13/2011\", \"orderqty\": 1, \"shipdate\": \"8/8/2011\", \"lastname\": \"Chapla\", \"firstname\": \"Lee\", \"totaldue\": 6796.0326, \"unitprice\": 419.4589, \"orderdate\": \"8/1/2011\", \"unitpricediscount\": 0.0000, \"customerid\": 671, \"fullname\": \"Lee Chapla\"}\n",
      "{\"freight\": 181.0019, \"subtotal\": 6035.8246, \"salesorderdetailid\": 1635, \"productid\": 770, \"linetotal\": 419.4589, \"employeeid\": 277, \".customerid\": 671, \"taxamt\": 579.2061, \"salesorderid\": 44097, \"duedate\": \"8/13/2011\", \"orderqty\": 1, \"shipdate\": \"8/8/2011\", \"lastname\": \"Chapla\", \"firstname\": \"Lee\", \"totaldue\": 6796.0326, \"unitprice\": 419.4589, \"orderdate\": \"8/1/2011\", \"unitpricediscount\": 0.0000, \"customerid\": 671, \"fullname\": \"Lee Chapla\"}\n",
      "{\"freight\": 181.0019, \"subtotal\": 6035.8246, \"salesorderdetailid\": 1636, \"productid\": 758, \"linetotal\": 1749.5880, \"employeeid\": 277, \".customerid\": 671, \"taxamt\": 579.2061, \"salesorderid\": 44097, \"duedate\": \"8/13/2011\", \"orderqty\": 2, \"shipdate\": \"8/8/2011\", \"lastname\": \"Chapla\", \"firstname\": \"Lee\", \"totaldue\": 6796.0326, \"unitprice\": 874.7940, \"orderdate\": \"8/1/2011\", \"unitpricediscount\": 0.0000, \"customerid\": 671, \"fullname\": \"Lee Chapla\"}\n",
      "{\"freight\": 181.0019, \"subtotal\": 6035.8246, \"salesorderdetailid\": 1637, \"productid\": 725, \"linetotal\": 735.7528, \"employeeid\": 277, \".customerid\": 671, \"taxamt\": 579.2061, \"salesorderid\": 44097, \"duedate\": \"8/13/2011\", \"orderqty\": 4, \"shipdate\": \"8/8/2011\", \"lastname\": \"Chapla\", \"firstname\": \"Lee\", \"totaldue\": 6796.0326, \"unitprice\": 183.9382, \"orderdate\": \"8/1/2011\", \"unitpricediscount\": 0.0000, \"customerid\": 671, \"fullname\": \"Lee Chapla\"}\n"
     ]
    }
   ],
   "source": [
    "# Join two dynamic frames on an equality join\n",
    "dyfjoin = dynamicFrameCustomers.join([\"customerid\"],[\"customerid\"],dynamicFrameOrders)\n",
    "\n",
    "# show top 10 rows for the joined dynamic \n",
    "dyfjoin.show(10)"
   ]
  },
  {
   "cell_type": "code",
   "execution_count": 18,
   "metadata": {
    "tags": []
   },
   "outputs": [
    {
     "name": "stdout",
     "output_type": "stream",
     "text": [
      "<awsglue.dynamicframe.DynamicFrame object at 0x7f0a20505180>\n"
     ]
    }
   ],
   "source": [
    "# write down the data in a Dynamic Frame to S3 location. \n",
    "glueContext.write_dynamic_frame.from_options(\n",
    "                        frame = dynamicFrameCustomers,\n",
    "                        connection_type=\"s3\", \n",
    "                        connection_options = {\"path\": \"s3://chivas-1994-101/write_down_dyf_to_s3\"}, \n",
    "                        format = \"csv\", \n",
    "                        format_options={\n",
    "                            \"separator\": \",\"\n",
    "                            },\n",
    "                        transformation_ctx = \"datasink2\")"
   ]
  },
  {
   "cell_type": "code",
   "execution_count": 19,
   "metadata": {
    "tags": []
   },
   "outputs": [
    {
     "name": "stdout",
     "output_type": "stream",
     "text": [
      "<awsglue.dynamicframe.DynamicFrame object at 0x7f0a20504d00>\n"
     ]
    }
   ],
   "source": [
    "# write data from the dynamicFrameCustomers to customers_write_dyf table using the meta data stored in the glue data catalog \n",
    "glueContext.write_dynamic_frame.from_catalog(\n",
    "    frame=dynamicFrameCustomers,\n",
    "    database = \"pyspark_tutorial_db\",  \n",
    "    table_name = \"customers_write_dyf\"\n",
    ")"
   ]
  },
  {
   "cell_type": "code",
   "execution_count": 20,
   "metadata": {
    "tags": []
   },
   "outputs": [
    {
     "name": "stdout",
     "output_type": "stream",
     "text": [
      "+----------+----------+-----------+--------------------+\n",
      "|customerid| firstname|   lastname|            fullname|\n",
      "+----------+----------+-----------+--------------------+\n",
      "|       293| Catherine|       Abel|      Catherine Abel|\n",
      "|       295|       Kim|Abercrombie|     Kim Abercrombie|\n",
      "|       297|  Humberto|    Acevedo|    Humberto Acevedo|\n",
      "|       291|   Gustavo|     Achong|      Gustavo Achong|\n",
      "|       299|     Pilar|   Ackerman|      Pilar Ackerman|\n",
      "|       305|     Carla|      Adams|         Carla Adams|\n",
      "|       301|   Frances|      Adams|       Frances Adams|\n",
      "|       307|       Jay|      Adams|           Jay Adams|\n",
      "|       309|    Ronald|      Adina|        Ronald Adina|\n",
      "|       311|    Samuel|   Agcaoili|     Samuel Agcaoili|\n",
      "|       313|     James|    Aguilar|       James Aguilar|\n",
      "|       315|    Robert|   Ahlering|     Robert Ahlering|\n",
      "|       319|       Kim|      Akers|           Kim Akers|\n",
      "|       441|   Stanley|       Alan|        Stanley Alan|\n",
      "|       323|       Amy|    Alberts|         Amy Alberts|\n",
      "|       325|      Anna|   Albright|       Anna Albright|\n",
      "|       327|    Milton|     Albury|       Milton Albury|\n",
      "|       329|      Paul|     Alcorn|         Paul Alcorn|\n",
      "|       331|   Gregory|   Alderson|    Gregory Alderson|\n",
      "|       333|J. Phillip|  Alexander|J. Phillip Alexander|\n",
      "+----------+----------+-----------+--------------------+\n",
      "only showing top 20 rows\n",
      "\n",
      "/opt/amazon/spark/python/lib/pyspark.zip/pyspark/sql/dataframe.py:127: UserWarning: DataFrame constructor is internal. Do not directly use it.\n"
     ]
    }
   ],
   "source": [
    "# Dynamic Frame to Spark DataFrame \n",
    "sparkDf = dynamicFrameCustomers.toDF()\n",
    "\n",
    "#show spark DF\n",
    "sparkDf.show()"
   ]
  },
  {
   "cell_type": "code",
   "execution_count": 21,
   "metadata": {
    "tags": []
   },
   "outputs": [
    {
     "name": "stdout",
     "output_type": "stream",
     "text": [
      "+----------+--------------------+\n",
      "|customerid|            fullname|\n",
      "+----------+--------------------+\n",
      "|       293|      Catherine Abel|\n",
      "|       295|     Kim Abercrombie|\n",
      "|       297|    Humberto Acevedo|\n",
      "|       291|      Gustavo Achong|\n",
      "|       299|      Pilar Ackerman|\n",
      "|       305|         Carla Adams|\n",
      "|       301|       Frances Adams|\n",
      "|       307|           Jay Adams|\n",
      "|       309|        Ronald Adina|\n",
      "|       311|     Samuel Agcaoili|\n",
      "|       313|       James Aguilar|\n",
      "|       315|     Robert Ahlering|\n",
      "|       319|           Kim Akers|\n",
      "|       441|        Stanley Alan|\n",
      "|       323|         Amy Alberts|\n",
      "|       325|       Anna Albright|\n",
      "|       327|       Milton Albury|\n",
      "|       329|         Paul Alcorn|\n",
      "|       331|    Gregory Alderson|\n",
      "|       333|J. Phillip Alexander|\n",
      "+----------+--------------------+\n",
      "only showing top 20 rows\n"
     ]
    }
   ],
   "source": [
    "# Select columns from spark dataframe\n",
    "dfSelect = sparkDf.select(\"customerid\",\"fullname\")\n",
    "\n",
    "# show selected\n",
    "dfSelect.show()"
   ]
  },
  {
   "cell_type": "code",
   "execution_count": 22,
   "metadata": {
    "tags": []
   },
   "outputs": [
    {
     "name": "stdout",
     "output_type": "stream",
     "text": [
      "+----------+----------+-----------+--------------------+----------+\n",
      "|customerid| firstname|   lastname|            fullname|      date|\n",
      "+----------+----------+-----------+--------------------+----------+\n",
      "|       293| Catherine|       Abel|      Catherine Abel|2022-07-24|\n",
      "|       295|       Kim|Abercrombie|     Kim Abercrombie|2022-07-24|\n",
      "|       297|  Humberto|    Acevedo|    Humberto Acevedo|2022-07-24|\n",
      "|       291|   Gustavo|     Achong|      Gustavo Achong|2022-07-24|\n",
      "|       299|     Pilar|   Ackerman|      Pilar Ackerman|2022-07-24|\n",
      "|       305|     Carla|      Adams|         Carla Adams|2022-07-24|\n",
      "|       301|   Frances|      Adams|       Frances Adams|2022-07-24|\n",
      "|       307|       Jay|      Adams|           Jay Adams|2022-07-24|\n",
      "|       309|    Ronald|      Adina|        Ronald Adina|2022-07-24|\n",
      "|       311|    Samuel|   Agcaoili|     Samuel Agcaoili|2022-07-24|\n",
      "|       313|     James|    Aguilar|       James Aguilar|2022-07-24|\n",
      "|       315|    Robert|   Ahlering|     Robert Ahlering|2022-07-24|\n",
      "|       319|       Kim|      Akers|           Kim Akers|2022-07-24|\n",
      "|       441|   Stanley|       Alan|        Stanley Alan|2022-07-24|\n",
      "|       323|       Amy|    Alberts|         Amy Alberts|2022-07-24|\n",
      "|       325|      Anna|   Albright|       Anna Albright|2022-07-24|\n",
      "|       327|    Milton|     Albury|       Milton Albury|2022-07-24|\n",
      "|       329|      Paul|     Alcorn|         Paul Alcorn|2022-07-24|\n",
      "|       331|   Gregory|   Alderson|    Gregory Alderson|2022-07-24|\n",
      "|       333|J. Phillip|  Alexander|J. Phillip Alexander|2022-07-24|\n",
      "+----------+----------+-----------+--------------------+----------+\n",
      "only showing top 20 rows\n"
     ]
    }
   ],
   "source": [
    "#import lit from sql functions \n",
    "from  pyspark.sql.functions import lit\n",
    "\n",
    "# Add new column to spark dataframe\n",
    "dfNewColumn = sparkDf.withColumn(\"date\", lit(\"2022-07-24\"))\n",
    "\n",
    "# show df with new column\n",
    "dfNewColumn.show()"
   ]
  },
  {
   "cell_type": "code",
   "execution_count": 23,
   "metadata": {
    "tags": []
   },
   "outputs": [
    {
     "name": "stdout",
     "output_type": "stream",
     "text": [
      "+----------+----------+-----------+--------------------+--------------------+\n",
      "|customerid| firstname|   lastname|            fullname|       new_full_name|\n",
      "+----------+----------+-----------+--------------------+--------------------+\n",
      "|       293| Catherine|       Abel|      Catherine Abel|      Catherine Abel|\n",
      "|       295|       Kim|Abercrombie|     Kim Abercrombie|     Kim Abercrombie|\n",
      "|       297|  Humberto|    Acevedo|    Humberto Acevedo|    Humberto Acevedo|\n",
      "|       291|   Gustavo|     Achong|      Gustavo Achong|      Gustavo Achong|\n",
      "|       299|     Pilar|   Ackerman|      Pilar Ackerman|      Pilar Ackerman|\n",
      "|       305|     Carla|      Adams|         Carla Adams|         Carla Adams|\n",
      "|       301|   Frances|      Adams|       Frances Adams|       Frances Adams|\n",
      "|       307|       Jay|      Adams|           Jay Adams|           Jay Adams|\n",
      "|       309|    Ronald|      Adina|        Ronald Adina|        Ronald Adina|\n",
      "|       311|    Samuel|   Agcaoili|     Samuel Agcaoili|     Samuel Agcaoili|\n",
      "|       313|     James|    Aguilar|       James Aguilar|       James Aguilar|\n",
      "|       315|    Robert|   Ahlering|     Robert Ahlering|     Robert Ahlering|\n",
      "|       319|       Kim|      Akers|           Kim Akers|           Kim Akers|\n",
      "|       441|   Stanley|       Alan|        Stanley Alan|        Stanley Alan|\n",
      "|       323|       Amy|    Alberts|         Amy Alberts|         Amy Alberts|\n",
      "|       325|      Anna|   Albright|       Anna Albright|       Anna Albright|\n",
      "|       327|    Milton|     Albury|       Milton Albury|       Milton Albury|\n",
      "|       329|      Paul|     Alcorn|         Paul Alcorn|         Paul Alcorn|\n",
      "|       331|   Gregory|   Alderson|    Gregory Alderson|    Gregory Alderson|\n",
      "|       333|J. Phillip|  Alexander|J. Phillip Alexander|J. Phillip Alexander|\n",
      "+----------+----------+-----------+--------------------+--------------------+\n",
      "only showing top 20 rows\n"
     ]
    }
   ],
   "source": [
    "#import concat from functions \n",
    "from  pyspark.sql.functions import concat\n",
    "\n",
    "# create another full name column\n",
    "dfNewFullName = sparkDf.withColumn(\"new_full_name\",concat(\"firstname\",concat(lit(' '),\"lastname\")))\n",
    "\n",
    "#show full name column \n",
    "dfNewFullName.show()"
   ]
  },
  {
   "cell_type": "code",
   "execution_count": 24,
   "metadata": {
    "tags": []
   },
   "outputs": [
    {
     "name": "stdout",
     "output_type": "stream",
     "text": [
      "+----------+--------------------+\n",
      "|customerid|            fullname|\n",
      "+----------+--------------------+\n",
      "|       293|      Catherine Abel|\n",
      "|       295|     Kim Abercrombie|\n",
      "|       297|    Humberto Acevedo|\n",
      "|       291|      Gustavo Achong|\n",
      "|       299|      Pilar Ackerman|\n",
      "|       305|         Carla Adams|\n",
      "|       301|       Frances Adams|\n",
      "|       307|           Jay Adams|\n",
      "|       309|        Ronald Adina|\n",
      "|       311|     Samuel Agcaoili|\n",
      "|       313|       James Aguilar|\n",
      "|       315|     Robert Ahlering|\n",
      "|       319|           Kim Akers|\n",
      "|       441|        Stanley Alan|\n",
      "|       323|         Amy Alberts|\n",
      "|       325|       Anna Albright|\n",
      "|       327|       Milton Albury|\n",
      "|       329|         Paul Alcorn|\n",
      "|       331|    Gregory Alderson|\n",
      "|       333|J. Phillip Alexander|\n",
      "+----------+--------------------+\n",
      "only showing top 20 rows\n"
     ]
    }
   ],
   "source": [
    "# Drop column from spark dataframe\n",
    "dfDropCol = sparkDf.drop(\"firstname\",\"lastname\")\n",
    "\n",
    "#show dropped column df\n",
    "dfDropCol.show()"
   ]
  },
  {
   "cell_type": "code",
   "execution_count": 25,
   "metadata": {
    "tags": []
   },
   "outputs": [
    {
     "name": "stdout",
     "output_type": "stream",
     "text": [
      "+----------+----------+-----------+--------------------+\n",
      "|customerid| firstname|   lastname|           full_name|\n",
      "+----------+----------+-----------+--------------------+\n",
      "|       293| Catherine|       Abel|      Catherine Abel|\n",
      "|       295|       Kim|Abercrombie|     Kim Abercrombie|\n",
      "|       297|  Humberto|    Acevedo|    Humberto Acevedo|\n",
      "|       291|   Gustavo|     Achong|      Gustavo Achong|\n",
      "|       299|     Pilar|   Ackerman|      Pilar Ackerman|\n",
      "|       305|     Carla|      Adams|         Carla Adams|\n",
      "|       301|   Frances|      Adams|       Frances Adams|\n",
      "|       307|       Jay|      Adams|           Jay Adams|\n",
      "|       309|    Ronald|      Adina|        Ronald Adina|\n",
      "|       311|    Samuel|   Agcaoili|     Samuel Agcaoili|\n",
      "|       313|     James|    Aguilar|       James Aguilar|\n",
      "|       315|    Robert|   Ahlering|     Robert Ahlering|\n",
      "|       319|       Kim|      Akers|           Kim Akers|\n",
      "|       441|   Stanley|       Alan|        Stanley Alan|\n",
      "|       323|       Amy|    Alberts|         Amy Alberts|\n",
      "|       325|      Anna|   Albright|       Anna Albright|\n",
      "|       327|    Milton|     Albury|       Milton Albury|\n",
      "|       329|      Paul|     Alcorn|         Paul Alcorn|\n",
      "|       331|   Gregory|   Alderson|    Gregory Alderson|\n",
      "|       333|J. Phillip|  Alexander|J. Phillip Alexander|\n",
      "+----------+----------+-----------+--------------------+\n",
      "only showing top 20 rows\n"
     ]
    }
   ],
   "source": [
    "# Rename column in Spark dataframe\n",
    "dfRenameCol = sparkDf.withColumnRenamed(\"fullname\",\"full_name\")\n",
    "\n",
    "#show renamed column dataframe\n",
    "dfRenameCol.show()"
   ]
  },
  {
   "cell_type": "code",
   "execution_count": 26,
   "metadata": {
    "tags": []
   },
   "outputs": [
    {
     "name": "stdout",
     "output_type": "stream",
     "text": [
      "+--------+-----+\n",
      "|lastname|count|\n",
      "+--------+-----+\n",
      "|  Achong|    1|\n",
      "|  Bailey|    1|\n",
      "|   Caron|    1|\n",
      "|   Casts|    1|\n",
      "|   Curry|    1|\n",
      "| Desalvo|    1|\n",
      "| Dockter|    1|\n",
      "|    Dyck|    1|\n",
      "|  Farino|    1|\n",
      "| Fluegel|    1|\n",
      "|   Ganio|    1|\n",
      "|   Gimmi|    1|\n",
      "|Gonzales|    2|\n",
      "|   Graff|    1|\n",
      "|   Groth|    1|\n",
      "|    Hass|    1|\n",
      "| Hassall|    1|\n",
      "|Hillmann|    1|\n",
      "| Hodgson|    1|\n",
      "|   Ihrig|    1|\n",
      "+--------+-----+\n",
      "only showing top 20 rows\n"
     ]
    }
   ],
   "source": [
    "# Group by lastname then print counts of lastname and show\n",
    "sparkDf.groupBy(\"lastname\").count().show()"
   ]
  },
  {
   "cell_type": "code",
   "execution_count": 27,
   "metadata": {
    "tags": []
   },
   "outputs": [
    {
     "name": "stdout",
     "output_type": "stream",
     "text": [
      "+----------+---------+--------+-------------+\n",
      "|customerid|firstname|lastname|     fullname|\n",
      "+----------+---------+--------+-------------+\n",
      "|       305|    Carla|   Adams|  Carla Adams|\n",
      "|       301|  Frances|   Adams|Frances Adams|\n",
      "|       307|      Jay|   Adams|    Jay Adams|\n",
      "+----------+---------+--------+-------------+\n"
     ]
    }
   ],
   "source": [
    "# Filter spark DataFrame for customers who have the last name Adams\n",
    "sparkDf.filter(sparkDf[\"lastname\"] == \"Adams\").show()"
   ]
  },
  {
   "cell_type": "code",
   "execution_count": 28,
   "metadata": {
    "tags": []
   },
   "outputs": [
    {
     "name": "stdout",
     "output_type": "stream",
     "text": [
      "+----------+---------+--------+-------------+\n",
      "|customerid|firstname|lastname|     fullname|\n",
      "+----------+---------+--------+-------------+\n",
      "|       305|    Carla|   Adams|  Carla Adams|\n",
      "|       301|  Frances|   Adams|Frances Adams|\n",
      "|       307|      Jay|   Adams|    Jay Adams|\n",
      "+----------+---------+--------+-------------+\n"
     ]
    }
   ],
   "source": [
    "# Where clause spark DataFrame for customers who have the last name Adams\n",
    "sparkDf.where(\"lastname =='Adams'\").show()"
   ]
  },
  {
   "cell_type": "code",
   "execution_count": 29,
   "metadata": {
    "tags": []
   },
   "outputs": [
    {
     "name": "stdout",
     "output_type": "stream",
     "text": [
      "\n"
     ]
    }
   ],
   "source": [
    "# Read from the customers table in the glue data catalog using a dynamic frame and convert to spark dataframe\n",
    "dfOrders = glueContext.create_dynamic_frame.from_catalog(\n",
    "                                        database = \"pyspark_tutorial_db\", \n",
    "                                        table_name = \"orders\"\n",
    "                                    ).toDF()"
   ]
  },
  {
   "cell_type": "code",
   "execution_count": 30,
   "metadata": {
    "tags": []
   },
   "outputs": [
    {
     "name": "stdout",
     "output_type": "stream",
     "text": [
      "+----------+---------+--------+--------------+------------+------------------+---------+---------+--------+----------+----------+----------+---------+--------+----------+---------+--------+---------+-----------------+---------+\n",
      "|customerid|firstname|lastname|fullname      |salesorderid|salesorderdetailid|orderdate|duedate  |shipdate|employeeid|customerid|subtotal  |taxamt   |freight |totaldue  |productid|orderqty|unitprice|unitpricediscount|linetotal|\n",
      "+----------+---------+--------+--------------+------------+------------------+---------+---------+--------+----------+----------+----------+---------+--------+----------+---------+--------+---------+-----------------+---------+\n",
      "|517       |Richard  |Bready  |Richard Bready|43665       |61                |5/31/2011|6/12/2011|6/7/2011|283       |517       |14352.7713|1375.9427|429.9821|16158.6961|711      |2       |20.1865  |0.0000           |40.3730  |\n",
      "|517       |Richard  |Bready  |Richard Bready|43665       |62                |5/31/2011|6/12/2011|6/7/2011|283       |517       |14352.7713|1375.9427|429.9821|16158.6961|773      |1       |2039.9940|0.0000           |2039.9940|\n",
      "|517       |Richard  |Bready  |Richard Bready|43665       |63                |5/31/2011|6/12/2011|6/7/2011|283       |517       |14352.7713|1375.9427|429.9821|16158.6961|707      |1       |20.1865  |0.0000           |20.1865  |\n",
      "|517       |Richard  |Bready  |Richard Bready|43665       |64                |5/31/2011|6/12/2011|6/7/2011|283       |517       |14352.7713|1375.9427|429.9821|16158.6961|715      |2       |28.8404  |0.0000           |57.6808  |\n",
      "|517       |Richard  |Bready  |Richard Bready|43665       |65                |5/31/2011|6/12/2011|6/7/2011|283       |517       |14352.7713|1375.9427|429.9821|16158.6961|777      |2       |2024.9940|0.0000           |4049.9880|\n",
      "|517       |Richard  |Bready  |Richard Bready|43665       |66                |5/31/2011|6/12/2011|6/7/2011|283       |517       |14352.7713|1375.9427|429.9821|16158.6961|712      |2       |5.1865   |0.0000           |10.3730  |\n",
      "|517       |Richard  |Bready  |Richard Bready|43665       |67                |5/31/2011|6/12/2011|6/7/2011|283       |517       |14352.7713|1375.9427|429.9821|16158.6961|775      |2       |2024.9940|0.0000           |4049.9880|\n",
      "|517       |Richard  |Bready  |Richard Bready|43665       |68                |5/31/2011|6/12/2011|6/7/2011|283       |517       |14352.7713|1375.9427|429.9821|16158.6961|778      |1       |2024.9940|0.0000           |2024.9940|\n",
      "|517       |Richard  |Bready  |Richard Bready|43665       |69                |5/31/2011|6/12/2011|6/7/2011|283       |517       |14352.7713|1375.9427|429.9821|16158.6961|709      |6       |5.7000   |0.0000           |34.2000  |\n",
      "|517       |Richard  |Bready  |Richard Bready|43665       |70                |5/31/2011|6/12/2011|6/7/2011|283       |517       |14352.7713|1375.9427|429.9821|16158.6961|776      |1       |2024.9940|0.0000           |2024.9940|\n",
      "|1405      |Steve    |Masters |Steve Masters |43854       |576               |7/1/2011 |7/13/2011|7/8/2011|282       |1405      |1749.5880 |167.9604 |52.4876 |1970.0360 |758      |2       |874.7940 |0.0000           |1749.5880|\n",
      "|1133      |Lucio    |Iallo   |Lucio Iallo   |43859       |619               |7/1/2011 |7/13/2011|7/8/2011|276       |1133      |3911.5991 |375.2443 |117.2639|4404.1073 |715      |1       |28.8404  |0.0000           |28.8404  |\n",
      "|1133      |Lucio    |Iallo   |Lucio Iallo   |43859       |620               |7/1/2011 |7/13/2011|7/8/2011|276       |1133      |3911.5991 |375.2443 |117.2639|4404.1073 |762      |1       |419.4589 |0.0000           |419.4589 |\n",
      "|1133      |Lucio    |Iallo   |Lucio Iallo   |43859       |621               |7/1/2011 |7/13/2011|7/8/2011|276       |1133      |3911.5991 |375.2443 |117.2639|4404.1073 |758      |3       |874.7940 |0.0000           |2624.3820|\n",
      "|1133      |Lucio    |Iallo   |Lucio Iallo   |43859       |622               |7/1/2011 |7/13/2011|7/8/2011|276       |1133      |3911.5991 |375.2443 |117.2639|4404.1073 |760      |2       |419.4589 |0.0000           |838.9178 |\n",
      "|1935      |Lynn     |Tsoflias|Lynn Tsoflias |43876       |815               |7/1/2011 |7/13/2011|7/8/2011|275       |1935      |7135.2649 |686.9474 |214.6711|8036.8834 |762      |2       |419.4589 |0.0000           |838.9178 |\n",
      "|1935      |Lynn     |Tsoflias|Lynn Tsoflias |43876       |816               |7/1/2011 |7/13/2011|7/8/2011|275       |1935      |7135.2649 |686.9474 |214.6711|8036.8834 |758      |1       |874.7940 |0.0000           |874.7940 |\n",
      "|1935      |Lynn     |Tsoflias|Lynn Tsoflias |43876       |817               |7/1/2011 |7/13/2011|7/8/2011|275       |1935      |7135.2649 |686.9474 |214.6711|8036.8834 |763      |3       |419.4589 |0.0000           |1258.3767|\n",
      "|1935      |Lynn     |Tsoflias|Lynn Tsoflias |43876       |818               |7/1/2011 |7/13/2011|7/8/2011|275       |1935      |7135.2649 |686.9474 |214.6711|8036.8834 |754      |2       |874.7940 |0.0000           |1749.5880|\n",
      "|1935      |Lynn     |Tsoflias|Lynn Tsoflias |43876       |819               |7/1/2011 |7/13/2011|7/8/2011|275       |1935      |7135.2649 |686.9474 |214.6711|8036.8834 |725      |2       |183.9382 |0.0000           |367.8764 |\n",
      "+----------+---------+--------+--------------+------------+------------------+---------+---------+--------+----------+----------+----------+---------+--------+----------+---------+--------+---------+-----------------+---------+\n",
      "only showing top 20 rows\n"
     ]
    }
   ],
   "source": [
    "# Inner Join Customers Spark DF to Orders Spark DF\n",
    "sparkDf.join(dfOrders,sparkDf.customerid ==  dfOrders.customerid,\"inner\").show(truncate=False)"
   ]
  },
  {
   "cell_type": "code",
   "execution_count": 31,
   "metadata": {
    "tags": []
   },
   "outputs": [
    {
     "name": "stdout",
     "output_type": "stream",
     "text": [
      "+----------+---------+--------+---------+------------+------------------+----------+----------+---------+----------+----------+----------+---------+---------+----------+---------+--------+---------+-----------------+---------+\n",
      "|customerid|firstname|lastname| fullname|salesorderid|salesorderdetailid| orderdate|   duedate| shipdate|employeeid|customerid|  subtotal|   taxamt|  freight|  totaldue|productid|orderqty|unitprice|unitpricediscount|linetotal|\n",
      "+----------+---------+--------+---------+------------+------------------+----------+----------+---------+----------+----------+----------+---------+---------+----------+---------+--------+---------+-----------------+---------+\n",
      "|       307|      Jay|   Adams|Jay Adams|       48382|             23857|10/30/2012|11/11/2012|11/6/2012|       277|       307|   20.5200|   2.0246|   0.6327|   23.1773|      805|       1|  20.5200|           0.0000|  20.5200|\n",
      "|       307|      Jay|   Adams|Jay Adams|       50734|             34874| 4/30/2013| 5/12/2013| 5/7/2013|       275|       307| 2232.8181| 220.3047|  68.8452| 2521.9680|      739|       3| 744.2727|           0.0000|2232.8181|\n",
      "|       307|      Jay|   Adams|Jay Adams|       53561|             49267| 7/31/2013| 8/12/2013| 8/7/2013|       275|       307|48717.0900|4705.2935|1470.4042|54892.7877|      952|       6|  12.1440|           0.0000|  72.8640|\n",
      "|       307|      Jay|   Adams|Jay Adams|       53561|             49268| 7/31/2013| 8/12/2013| 8/7/2013|       275|       307|48717.0900|4705.2935|1470.4042|54892.7877|      739|       1| 818.7000|           0.0000| 818.7000|\n",
      "|       307|      Jay|   Adams|Jay Adams|       53561|             49269| 7/31/2013| 8/12/2013| 8/7/2013|       275|       307|48717.0900|4705.2935|1470.4042|54892.7877|      985|       4| 338.9940|           0.0000|1355.9760|\n",
      "|       307|      Jay|   Adams|Jay Adams|       53561|             49270| 7/31/2013| 8/12/2013| 8/7/2013|       275|       307|48717.0900|4705.2935|1470.4042|54892.7877|      981|       4| 461.6940|           0.0000|1846.7760|\n",
      "|       307|      Jay|   Adams|Jay Adams|       53561|             49271| 7/31/2013| 8/12/2013| 8/7/2013|       275|       307|48717.0900|4705.2935|1470.4042|54892.7877|      919|       1| 158.4300|           0.0000| 158.4300|\n",
      "|       307|      Jay|   Adams|Jay Adams|       53561|             49272| 7/31/2013| 8/12/2013| 8/7/2013|       275|       307|48717.0900|4705.2935|1470.4042|54892.7877|      747|       1| 809.7600|           0.0000| 809.7600|\n",
      "|       307|      Jay|   Adams|Jay Adams|       53561|             49273| 7/31/2013| 8/12/2013| 8/7/2013|       275|       307|48717.0900|4705.2935|1470.4042|54892.7877|      945|       4|  54.8940|           0.0000| 219.5760|\n",
      "|       307|      Jay|   Adams|Jay Adams|       53561|             49274| 7/31/2013| 8/12/2013| 8/7/2013|       275|       307|48717.0900|4705.2935|1470.4042|54892.7877|      926|       1| 149.8740|           0.0000| 149.8740|\n",
      "|       307|      Jay|   Adams|Jay Adams|       53561|             49275| 7/31/2013| 8/12/2013| 8/7/2013|       275|       307|48717.0900|4705.2935|1470.4042|54892.7877|      781|       3|1391.9940|           0.0000|4175.9820|\n",
      "|       307|      Jay|   Adams|Jay Adams|       53561|             49276| 7/31/2013| 8/12/2013| 8/7/2013|       275|       307|48717.0900|4705.2935|1470.4042|54892.7877|      867|       6|  41.9940|           0.0000| 251.9640|\n",
      "|       307|      Jay|   Adams|Jay Adams|       53561|             49277| 7/31/2013| 8/12/2013| 8/7/2013|       275|       307|48717.0900|4705.2935|1470.4042|54892.7877|      742|       1| 818.7000|           0.0000| 818.7000|\n",
      "|       307|      Jay|   Adams|Jay Adams|       53561|             49278| 7/31/2013| 8/12/2013| 8/7/2013|       275|       307|48717.0900|4705.2935|1470.4042|54892.7877|      994|       2|  32.3940|           0.0000|  64.7880|\n",
      "|       307|      Jay|   Adams|Jay Adams|       53561|             49279| 7/31/2013| 8/12/2013| 8/7/2013|       275|       307|48717.0900|4705.2935|1470.4042|54892.7877|      920|       3| 158.4300|           0.0000| 475.2900|\n",
      "|       307|      Jay|   Adams|Jay Adams|       53561|             49280| 7/31/2013| 8/12/2013| 8/7/2013|       275|       307|48717.0900|4705.2935|1470.4042|54892.7877|      984|       1| 338.9940|           0.0000| 338.9940|\n",
      "|       307|      Jay|   Adams|Jay Adams|       53561|             49281| 7/31/2013| 8/12/2013| 8/7/2013|       275|       307|48717.0900|4705.2935|1470.4042|54892.7877|      925|       9| 149.8740|           0.0000|1348.8660|\n",
      "|       307|      Jay|   Adams|Jay Adams|       53561|             49282| 7/31/2013| 8/12/2013| 8/7/2013|       275|       307|48717.0900|4705.2935|1470.4042|54892.7877|      918|       2| 158.4300|           0.0000| 316.8600|\n",
      "|       307|      Jay|   Adams|Jay Adams|       53561|             49283| 7/31/2013| 8/12/2013| 8/7/2013|       275|       307|48717.0900|4705.2935|1470.4042|54892.7877|      784|       5|1376.9940|           0.0000|6884.9700|\n",
      "|       307|      Jay|   Adams|Jay Adams|       53561|             49284| 7/31/2013| 8/12/2013| 8/7/2013|       275|       307|48717.0900|4705.2935|1470.4042|54892.7877|      950|       2| 153.8940|           0.0000| 307.7880|\n",
      "+----------+---------+--------+---------+------------+------------------+----------+----------+---------+----------+----------+----------+---------+---------+----------+---------+--------+---------+-----------------+---------+\n",
      "only showing top 20 rows\n"
     ]
    }
   ],
   "source": [
    "#Get customers that only have surname Adams\n",
    "dfAdams = sparkDf.where(\"lastname =='Adams'\")\n",
    "\n",
    "# inner join on Adams DF and orders\n",
    "dfAdams.join(dfOrders,dfAdams.customerid ==  dfOrders.customerid,\"inner\").show()"
   ]
  },
  {
   "cell_type": "code",
   "execution_count": 32,
   "metadata": {
    "tags": []
   },
   "outputs": [
    {
     "name": "stdout",
     "output_type": "stream",
     "text": [
      "+------------+------------------+---------+---------+--------+----------+----------+----------+---------+---------+----------+---------+--------+---------+-----------------+---------+----------+---------+--------+--------+\n",
      "|salesorderid|salesorderdetailid|orderdate|  duedate|shipdate|employeeid|customerid|  subtotal|   taxamt|  freight|  totaldue|productid|orderqty|unitprice|unitpricediscount|linetotal|customerid|firstname|lastname|fullname|\n",
      "+------------+------------------+---------+---------+--------+----------+----------+----------+---------+---------+----------+---------+--------+---------+-----------------+---------+----------+---------+--------+--------+\n",
      "|       43665|                61|5/31/2011|6/12/2011|6/7/2011|       283|       517|14352.7713|1375.9427| 429.9821|16158.6961|      711|       2|  20.1865|           0.0000|  40.3730|      null|     null|    null|    null|\n",
      "|       43665|                62|5/31/2011|6/12/2011|6/7/2011|       283|       517|14352.7713|1375.9427| 429.9821|16158.6961|      773|       1|2039.9940|           0.0000|2039.9940|      null|     null|    null|    null|\n",
      "|       43665|                63|5/31/2011|6/12/2011|6/7/2011|       283|       517|14352.7713|1375.9427| 429.9821|16158.6961|      707|       1|  20.1865|           0.0000|  20.1865|      null|     null|    null|    null|\n",
      "|       43665|                64|5/31/2011|6/12/2011|6/7/2011|       283|       517|14352.7713|1375.9427| 429.9821|16158.6961|      715|       2|  28.8404|           0.0000|  57.6808|      null|     null|    null|    null|\n",
      "|       43665|                65|5/31/2011|6/12/2011|6/7/2011|       283|       517|14352.7713|1375.9427| 429.9821|16158.6961|      777|       2|2024.9940|           0.0000|4049.9880|      null|     null|    null|    null|\n",
      "|       43665|                66|5/31/2011|6/12/2011|6/7/2011|       283|       517|14352.7713|1375.9427| 429.9821|16158.6961|      712|       2|   5.1865|           0.0000|  10.3730|      null|     null|    null|    null|\n",
      "|       43665|                67|5/31/2011|6/12/2011|6/7/2011|       283|       517|14352.7713|1375.9427| 429.9821|16158.6961|      775|       2|2024.9940|           0.0000|4049.9880|      null|     null|    null|    null|\n",
      "|       43665|                68|5/31/2011|6/12/2011|6/7/2011|       283|       517|14352.7713|1375.9427| 429.9821|16158.6961|      778|       1|2024.9940|           0.0000|2024.9940|      null|     null|    null|    null|\n",
      "|       43665|                69|5/31/2011|6/12/2011|6/7/2011|       283|       517|14352.7713|1375.9427| 429.9821|16158.6961|      709|       6|   5.7000|           0.0000|  34.2000|      null|     null|    null|    null|\n",
      "|       43665|                70|5/31/2011|6/12/2011|6/7/2011|       283|       517|14352.7713|1375.9427| 429.9821|16158.6961|      776|       1|2024.9940|           0.0000|2024.9940|      null|     null|    null|    null|\n",
      "|       43668|                81|5/31/2011|6/12/2011|6/7/2011|       282|       591|35944.1562|3461.7654|1081.8017|40487.7233|      756|       3| 874.7940|           0.0000|2624.3820|      null|     null|    null|    null|\n",
      "|       43668|                82|5/31/2011|6/12/2011|6/7/2011|       282|       591|35944.1562|3461.7654|1081.8017|40487.7233|      753|       2|2146.9620|           0.0000|4293.9240|      null|     null|    null|    null|\n",
      "|       43668|                83|5/31/2011|6/12/2011|6/7/2011|       282|       591|35944.1562|3461.7654|1081.8017|40487.7233|      760|       7| 419.4589|           0.0000|2936.2123|      null|     null|    null|    null|\n",
      "|       43668|                84|5/31/2011|6/12/2011|6/7/2011|       282|       591|35944.1562|3461.7654|1081.8017|40487.7233|      765|       6| 419.4589|           0.0000|2516.7534|      null|     null|    null|    null|\n",
      "|       43668|                85|5/31/2011|6/12/2011|6/7/2011|       282|       591|35944.1562|3461.7654|1081.8017|40487.7233|      715|       6|  28.8404|           0.0000| 173.0424|      null|     null|    null|    null|\n",
      "|       43668|                86|5/31/2011|6/12/2011|6/7/2011|       282|       591|35944.1562|3461.7654|1081.8017|40487.7233|      730|       6| 183.9382|           0.0000|1103.6292|      null|     null|    null|    null|\n",
      "|       43668|                87|5/31/2011|6/12/2011|6/7/2011|       282|       591|35944.1562|3461.7654|1081.8017|40487.7233|      707|       2|  20.1865|           0.0000|  40.3730|      null|     null|    null|    null|\n",
      "|       43668|                88|5/31/2011|6/12/2011|6/7/2011|       282|       591|35944.1562|3461.7654|1081.8017|40487.7233|      711|       2|  20.1865|           0.0000|  40.3730|      null|     null|    null|    null|\n",
      "|       43668|                89|5/31/2011|6/12/2011|6/7/2011|       282|       591|35944.1562|3461.7654|1081.8017|40487.7233|      754|       2| 874.7940|           0.0000|1749.5880|      null|     null|    null|    null|\n",
      "|       43668|                90|5/31/2011|6/12/2011|6/7/2011|       282|       591|35944.1562|3461.7654|1081.8017|40487.7233|      712|       4|   5.1865|           0.0000|  20.7460|      null|     null|    null|    null|\n",
      "|       43668|                91|5/31/2011|6/12/2011|6/7/2011|       282|       591|35944.1562|3461.7654|1081.8017|40487.7233|      729|       2| 183.9382|           0.0000| 367.8764|      null|     null|    null|    null|\n",
      "|       43668|                92|5/31/2011|6/12/2011|6/7/2011|       282|       591|35944.1562|3461.7654|1081.8017|40487.7233|      755|       3| 874.7940|           0.0000|2624.3820|      null|     null|    null|    null|\n",
      "|       43668|                93|5/31/2011|6/12/2011|6/7/2011|       282|       591|35944.1562|3461.7654|1081.8017|40487.7233|      761|       3| 419.4589|           0.0000|1258.3767|      null|     null|    null|    null|\n",
      "|       43668|                94|5/31/2011|6/12/2011|6/7/2011|       282|       591|35944.1562|3461.7654|1081.8017|40487.7233|      770|       2| 419.4589|           0.0000| 838.9178|      null|     null|    null|    null|\n",
      "|       43668|                95|5/31/2011|6/12/2011|6/7/2011|       282|       591|35944.1562|3461.7654|1081.8017|40487.7233|      726|       3| 183.9382|           0.0000| 551.8146|      null|     null|    null|    null|\n",
      "|       43668|                96|5/31/2011|6/12/2011|6/7/2011|       282|       591|35944.1562|3461.7654|1081.8017|40487.7233|      764|       2| 419.4589|           0.0000| 838.9178|      null|     null|    null|    null|\n",
      "|       43668|                97|5/31/2011|6/12/2011|6/7/2011|       282|       591|35944.1562|3461.7654|1081.8017|40487.7233|      766|       2| 419.4589|           0.0000| 838.9178|      null|     null|    null|    null|\n",
      "|       43668|                98|5/31/2011|6/12/2011|6/7/2011|       282|       591|35944.1562|3461.7654|1081.8017|40487.7233|      725|       2| 183.9382|           0.0000| 367.8764|      null|     null|    null|    null|\n",
      "|       43668|                99|5/31/2011|6/12/2011|6/7/2011|       282|       591|35944.1562|3461.7654|1081.8017|40487.7233|      716|       1|  28.8404|           0.0000|  28.8404|      null|     null|    null|    null|\n",
      "|       43668|               100|5/31/2011|6/12/2011|6/7/2011|       282|       591|35944.1562|3461.7654|1081.8017|40487.7233|      768|       2| 419.4589|           0.0000| 838.9178|      null|     null|    null|    null|\n",
      "|       43668|               101|5/31/2011|6/12/2011|6/7/2011|       282|       591|35944.1562|3461.7654|1081.8017|40487.7233|      732|       4| 356.8980|           0.0000|1427.5920|      null|     null|    null|    null|\n",
      "|       43663|                52|5/31/2011|6/12/2011|6/7/2011|       276|       483|  419.4589|  40.2681|  12.5838|  472.3108|      760|       1| 419.4589|           0.0000| 419.4589|      null|     null|    null|    null|\n",
      "|       43662|                30|5/31/2011|6/12/2011|6/7/2011|       282|      1417|28832.5289|2775.1646| 867.2389|32474.9324|      764|       3| 419.4589|           0.0000|1258.3767|      null|     null|    null|    null|\n",
      "|       43662|                31|5/31/2011|6/12/2011|6/7/2011|       282|      1417|28832.5289|2775.1646| 867.2389|32474.9324|      770|       5| 419.4589|           0.0000|2097.2945|      null|     null|    null|    null|\n",
      "|       43662|                32|5/31/2011|6/12/2011|6/7/2011|       282|      1417|28832.5289|2775.1646| 867.2389|32474.9324|      730|       2| 183.9382|           0.0000| 367.8764|      null|     null|    null|    null|\n",
      "|       43662|                33|5/31/2011|6/12/2011|6/7/2011|       282|      1417|28832.5289|2775.1646| 867.2389|32474.9324|      754|       4| 874.7940|           0.0000|3499.1760|      null|     null|    null|    null|\n",
      "|       43662|                34|5/31/2011|6/12/2011|6/7/2011|       282|      1417|28832.5289|2775.1646| 867.2389|32474.9324|      725|       3| 183.9382|           0.0000| 551.8146|      null|     null|    null|    null|\n",
      "|       43662|                35|5/31/2011|6/12/2011|6/7/2011|       282|      1417|28832.5289|2775.1646| 867.2389|32474.9324|      762|       5| 419.4589|           0.0000|2097.2945|      null|     null|    null|    null|\n",
      "|       43662|                36|5/31/2011|6/12/2011|6/7/2011|       282|      1417|28832.5289|2775.1646| 867.2389|32474.9324|      765|       3| 419.4589|           0.0000|1258.3767|      null|     null|    null|    null|\n",
      "|       43662|                37|5/31/2011|6/12/2011|6/7/2011|       282|      1417|28832.5289|2775.1646| 867.2389|32474.9324|      768|       2| 419.4589|           0.0000| 838.9178|      null|     null|    null|    null|\n",
      "|       43662|                38|5/31/2011|6/12/2011|6/7/2011|       282|      1417|28832.5289|2775.1646| 867.2389|32474.9324|      753|       1|2146.9620|           0.0000|2146.9620|      null|     null|    null|    null|\n",
      "|       43662|                39|5/31/2011|6/12/2011|6/7/2011|       282|      1417|28832.5289|2775.1646| 867.2389|32474.9324|      756|       1| 874.7940|           0.0000| 874.7940|      null|     null|    null|    null|\n",
      "|       43662|                40|5/31/2011|6/12/2011|6/7/2011|       282|      1417|28832.5289|2775.1646| 867.2389|32474.9324|      763|       3| 419.4589|           0.0000|1258.3767|      null|     null|    null|    null|\n",
      "|       43662|                41|5/31/2011|6/12/2011|6/7/2011|       282|      1417|28832.5289|2775.1646| 867.2389|32474.9324|      732|       1| 356.8980|           0.0000| 356.8980|      null|     null|    null|    null|\n",
      "|       43662|                42|5/31/2011|6/12/2011|6/7/2011|       282|      1417|28832.5289|2775.1646| 867.2389|32474.9324|      758|       6| 874.7940|           0.0000|5248.7640|      null|     null|    null|    null|\n",
      "|       43662|                43|5/31/2011|6/12/2011|6/7/2011|       282|      1417|28832.5289|2775.1646| 867.2389|32474.9324|      729|       1| 183.9382|           0.0000| 183.9382|      null|     null|    null|    null|\n",
      "|       43662|                44|5/31/2011|6/12/2011|6/7/2011|       282|      1417|28832.5289|2775.1646| 867.2389|32474.9324|      722|       3| 178.5808|           0.0000| 535.7424|      null|     null|    null|    null|\n",
      "|       43662|                45|5/31/2011|6/12/2011|6/7/2011|       282|      1417|28832.5289|2775.1646| 867.2389|32474.9324|      749|       1|2146.9620|           0.0000|2146.9620|      null|     null|    null|    null|\n",
      "|       43662|                46|5/31/2011|6/12/2011|6/7/2011|       282|      1417|28832.5289|2775.1646| 867.2389|32474.9324|      760|       3| 419.4589|           0.0000|1258.3767|      null|     null|    null|    null|\n",
      "|       43662|                47|5/31/2011|6/12/2011|6/7/2011|       282|      1417|28832.5289|2775.1646| 867.2389|32474.9324|      726|       1| 183.9382|           0.0000| 183.9382|      null|     null|    null|    null|\n",
      "|       43662|                48|5/31/2011|6/12/2011|6/7/2011|       282|      1417|28832.5289|2775.1646| 867.2389|32474.9324|      733|       1| 356.8980|           0.0000| 356.8980|      null|     null|    null|    null|\n",
      "|       43662|                49|5/31/2011|6/12/2011|6/7/2011|       282|      1417|28832.5289|2775.1646| 867.2389|32474.9324|      738|       1| 178.5808|           0.0000| 178.5808|      null|     null|    null|    null|\n",
      "|       43662|                50|5/31/2011|6/12/2011|6/7/2011|       282|      1417|28832.5289|2775.1646| 867.2389|32474.9324|      766|       3| 419.4589|           0.0000|1258.3767|      null|     null|    null|    null|\n",
      "|       43662|                51|5/31/2011|6/12/2011|6/7/2011|       282|      1417|28832.5289|2775.1646| 867.2389|32474.9324|      755|       1| 874.7940|           0.0000| 874.7940|      null|     null|    null|    null|\n",
      "|       43664|                53|5/31/2011|6/12/2011|6/7/2011|       280|      1205|24432.6088|2344.9921| 732.8100|27510.4109|      772|       1|2039.9940|           0.0000|2039.9940|      null|     null|    null|    null|\n",
      "|       43664|                54|5/31/2011|6/12/2011|6/7/2011|       280|      1205|24432.6088|2344.9921| 732.8100|27510.4109|      775|       4|2024.9940|           0.0000|8099.9760|      null|     null|    null|    null|\n",
      "|       43664|                55|5/31/2011|6/12/2011|6/7/2011|       280|      1205|24432.6088|2344.9921| 732.8100|27510.4109|      714|       1|  28.8404|           0.0000|  28.8404|      null|     null|    null|    null|\n",
      "|       43664|                56|5/31/2011|6/12/2011|6/7/2011|       280|      1205|24432.6088|2344.9921| 732.8100|27510.4109|      716|       1|  28.8404|           0.0000|  28.8404|      null|     null|    null|    null|\n",
      "|       43664|                57|5/31/2011|6/12/2011|6/7/2011|       280|      1205|24432.6088|2344.9921| 732.8100|27510.4109|      777|       2|2024.9940|           0.0000|4049.9880|      null|     null|    null|    null|\n",
      "|       43664|                58|5/31/2011|6/12/2011|6/7/2011|       280|      1205|24432.6088|2344.9921| 732.8100|27510.4109|      771|       3|2039.9940|           0.0000|6119.9820|      null|     null|    null|    null|\n",
      "|       43664|                59|5/31/2011|6/12/2011|6/7/2011|       280|      1205|24432.6088|2344.9921| 732.8100|27510.4109|      773|       1|2039.9940|           0.0000|2039.9940|      null|     null|    null|    null|\n",
      "|       43664|                60|5/31/2011|6/12/2011|6/7/2011|       280|      1205|24432.6088|2344.9921| 732.8100|27510.4109|      778|       1|2024.9940|           0.0000|2024.9940|      null|     null|    null|    null|\n",
      "|       43660|                13|5/31/2011|6/12/2011|6/7/2011|       279|       721| 1294.2529| 124.2483|  38.8276| 1457.3288|      762|       1| 419.4589|           0.0000| 419.4589|      null|     null|    null|    null|\n",
      "|       43660|                14|5/31/2011|6/12/2011|6/7/2011|       279|       721| 1294.2529| 124.2483|  38.8276| 1457.3288|      758|       1| 874.7940|           0.0000| 874.7940|      null|     null|    null|    null|\n",
      "|       43661|                15|5/31/2011|6/12/2011|6/7/2011|       282|       851|32726.4786|3153.7696| 985.5530|36865.8012|      745|       1| 809.7600|           0.0000| 809.7600|      null|     null|    null|    null|\n",
      "|       43661|                16|5/31/2011|6/12/2011|6/7/2011|       282|       851|32726.4786|3153.7696| 985.5530|36865.8012|      743|       1| 714.7043|           0.0000| 714.7043|      null|     null|    null|    null|\n",
      "|       43661|                17|5/31/2011|6/12/2011|6/7/2011|       282|       851|32726.4786|3153.7696| 985.5530|36865.8012|      747|       2| 714.7043|           0.0000|1429.4086|      null|     null|    null|    null|\n",
      "|       43661|                18|5/31/2011|6/12/2011|6/7/2011|       282|       851|32726.4786|3153.7696| 985.5530|36865.8012|      712|       4|   5.1865|           0.0000|  20.7460|      null|     null|    null|    null|\n",
      "|       43661|                19|5/31/2011|6/12/2011|6/7/2011|       282|       851|32726.4786|3153.7696| 985.5530|36865.8012|      715|       4|  28.8404|           0.0000| 115.3616|      null|     null|    null|    null|\n",
      "|       43661|                20|5/31/2011|6/12/2011|6/7/2011|       282|       851|32726.4786|3153.7696| 985.5530|36865.8012|      742|       2| 722.5949|           0.0000|1445.1898|      null|     null|    null|    null|\n",
      "|       43661|                21|5/31/2011|6/12/2011|6/7/2011|       282|       851|32726.4786|3153.7696| 985.5530|36865.8012|      775|       3|2024.9940|           0.0000|6074.9820|      null|     null|    null|    null|\n",
      "|       43661|                22|5/31/2011|6/12/2011|6/7/2011|       282|       851|32726.4786|3153.7696| 985.5530|36865.8012|      778|       2|2024.9940|           0.0000|4049.9880|      null|     null|    null|    null|\n",
      "|       43661|                23|5/31/2011|6/12/2011|6/7/2011|       282|       851|32726.4786|3153.7696| 985.5530|36865.8012|      711|       2|  20.1865|           0.0000|  40.3730|      null|     null|    null|    null|\n",
      "|       43661|                24|5/31/2011|6/12/2011|6/7/2011|       282|       851|32726.4786|3153.7696| 985.5530|36865.8012|      741|       2| 818.7000|           0.0000|1637.4000|      null|     null|    null|    null|\n",
      "|       43661|                25|5/31/2011|6/12/2011|6/7/2011|       282|       851|32726.4786|3153.7696| 985.5530|36865.8012|      776|       4|2024.9940|           0.0000|8099.9760|      null|     null|    null|    null|\n",
      "|       43661|                26|5/31/2011|6/12/2011|6/7/2011|       282|       851|32726.4786|3153.7696| 985.5530|36865.8012|      773|       2|2039.9940|           0.0000|4079.9880|      null|     null|    null|    null|\n",
      "|       43661|                27|5/31/2011|6/12/2011|6/7/2011|       282|       851|32726.4786|3153.7696| 985.5530|36865.8012|      716|       2|  28.8404|           0.0000|  57.6808|      null|     null|    null|    null|\n",
      "|       43661|                28|5/31/2011|6/12/2011|6/7/2011|       282|       851|32726.4786|3153.7696| 985.5530|36865.8012|      777|       2|2024.9940|           0.0000|4049.9880|      null|     null|    null|    null|\n",
      "|       43661|                29|5/31/2011|6/12/2011|6/7/2011|       282|       851|32726.4786|3153.7696| 985.5530|36865.8012|      708|       5|  20.1865|           0.0000| 100.9325|      null|     null|    null|    null|\n",
      "|       43667|                77|5/31/2011|6/12/2011|6/7/2011|       277|      1373| 6107.0820| 586.1203| 183.1626| 6876.3649|      710|       3|   5.7000|           0.0000|  17.1000|      null|     null|    null|    null|\n",
      "|       43667|                78|5/31/2011|6/12/2011|6/7/2011|       277|      1373| 6107.0820| 586.1203| 183.1626| 6876.3649|      773|       1|2039.9940|           0.0000|2039.9940|      null|     null|    null|    null|\n",
      "|       43667|                79|5/31/2011|6/12/2011|6/7/2011|       277|      1373| 6107.0820| 586.1203| 183.1626| 6876.3649|      778|       1|2024.9940|           0.0000|2024.9940|      null|     null|    null|    null|\n",
      "|       43667|                80|5/31/2011|6/12/2011|6/7/2011|       277|      1373| 6107.0820| 586.1203| 183.1626| 6876.3649|      775|       1|2024.9940|           0.0000|2024.9940|      null|     null|    null|    null|\n",
      "|       43659|                 1|5/31/2011|6/12/2011|6/7/2011|       279|      1045|20565.6206|1971.5149| 616.0984|23153.2339|      776|       1|2024.9940|           0.0000|2024.9940|      null|     null|    null|    null|\n",
      "|       43659|                 2|5/31/2011|6/12/2011|6/7/2011|       279|      1045|20565.6206|1971.5149| 616.0984|23153.2339|      777|       3|2024.9940|           0.0000|6074.9820|      null|     null|    null|    null|\n",
      "|       43659|                 3|5/31/2011|6/12/2011|6/7/2011|       279|      1045|20565.6206|1971.5149| 616.0984|23153.2339|      778|       1|2024.9940|           0.0000|2024.9940|      null|     null|    null|    null|\n",
      "|       43659|                 4|5/31/2011|6/12/2011|6/7/2011|       279|      1045|20565.6206|1971.5149| 616.0984|23153.2339|      771|       1|2039.9940|           0.0000|2039.9940|      null|     null|    null|    null|\n",
      "|       43659|                 5|5/31/2011|6/12/2011|6/7/2011|       279|      1045|20565.6206|1971.5149| 616.0984|23153.2339|      772|       1|2039.9940|           0.0000|2039.9940|      null|     null|    null|    null|\n",
      "|       43659|                 6|5/31/2011|6/12/2011|6/7/2011|       279|      1045|20565.6206|1971.5149| 616.0984|23153.2339|      773|       2|2039.9940|           0.0000|4079.9880|      null|     null|    null|    null|\n",
      "|       43659|                 7|5/31/2011|6/12/2011|6/7/2011|       279|      1045|20565.6206|1971.5149| 616.0984|23153.2339|      774|       1|2039.9940|           0.0000|2039.9940|      null|     null|    null|    null|\n",
      "|       43659|                 8|5/31/2011|6/12/2011|6/7/2011|       279|      1045|20565.6206|1971.5149| 616.0984|23153.2339|      714|       3|  28.8404|           0.0000|  86.5212|      null|     null|    null|    null|\n",
      "|       43659|                 9|5/31/2011|6/12/2011|6/7/2011|       279|      1045|20565.6206|1971.5149| 616.0984|23153.2339|      716|       1|  28.8404|           0.0000|  28.8404|      null|     null|    null|    null|\n",
      "|       43659|                10|5/31/2011|6/12/2011|6/7/2011|       279|      1045|20565.6206|1971.5149| 616.0984|23153.2339|      709|       6|   5.7000|           0.0000|  34.2000|      null|     null|    null|    null|\n",
      "|       43659|                11|5/31/2011|6/12/2011|6/7/2011|       279|      1045|20565.6206|1971.5149| 616.0984|23153.2339|      712|       2|   5.1865|           0.0000|  10.3730|      null|     null|    null|    null|\n",
      "|       43659|                12|5/31/2011|6/12/2011|6/7/2011|       279|      1045|20565.6206|1971.5149| 616.0984|23153.2339|      711|       4|  20.1865|           0.0000|  80.7460|      null|     null|    null|    null|\n",
      "|       43666|                71|5/31/2011|6/12/2011|6/7/2011|       276|      1849| 5056.4896| 486.3747| 151.9921| 5694.8564|      764|       1| 419.4589|           0.0000| 419.4589|      null|     null|    null|    null|\n",
      "|       43666|                72|5/31/2011|6/12/2011|6/7/2011|       276|      1849| 5056.4896| 486.3747| 151.9921| 5694.8564|      753|       1|2146.9620|           0.0000|2146.9620|      null|     null|    null|    null|\n",
      "|       43666|                73|5/31/2011|6/12/2011|6/7/2011|       276|      1849| 5056.4896| 486.3747| 151.9921| 5694.8564|      732|       1| 356.8980|           0.0000| 356.8980|      null|     null|    null|    null|\n",
      "|       43666|                74|5/31/2011|6/12/2011|6/7/2011|       276|      1849| 5056.4896| 486.3747| 151.9921| 5694.8564|      756|       1| 874.7940|           0.0000| 874.7940|      null|     null|    null|    null|\n",
      "|       43666|                75|5/31/2011|6/12/2011|6/7/2011|       276|      1849| 5056.4896| 486.3747| 151.9921| 5694.8564|      768|       2| 419.4589|           0.0000| 838.9178|      null|     null|    null|    null|\n",
      "+------------+------------------+---------+---------+--------+----------+----------+----------+---------+---------+----------+---------+--------+---------+-----------------+---------+----------+---------+--------+--------+\n",
      "only showing top 100 rows\n"
     ]
    }
   ],
   "source": [
    "#left join on orders and adams df\n",
    "dfOrders.join(dfAdams,dfAdams.customerid ==  dfOrders.customerid,\"left\").show(100)"
   ]
  },
  {
   "cell_type": "code",
   "execution_count": 33,
   "metadata": {
    "tags": []
   },
   "outputs": [
    {
     "name": "stdout",
     "output_type": "stream",
     "text": [
      "{\"customerid\": 293, \"firstname\": \"Catherine\", \"lastname\": \"Abel\", \"fullname\": \"Catherine Abel\"}\n",
      "{\"customerid\": 295, \"firstname\": \"Kim\", \"lastname\": \"Abercrombie\", \"fullname\": \"Kim Abercrombie\"}\n",
      "{\"customerid\": 297, \"firstname\": \"Humberto\", \"lastname\": \"Acevedo\", \"fullname\": \"Humberto Acevedo\"}\n",
      "{\"customerid\": 291, \"firstname\": \"Gustavo\", \"lastname\": \"Achong\", \"fullname\": \"Gustavo Achong\"}\n",
      "{\"customerid\": 299, \"firstname\": \"Pilar\", \"lastname\": \"Ackerman\", \"fullname\": \"Pilar Ackerman\"}\n",
      "{\"customerid\": 305, \"firstname\": \"Carla\", \"lastname\": \"Adams\", \"fullname\": \"Carla Adams\"}\n",
      "{\"customerid\": 301, \"firstname\": \"Frances\", \"lastname\": \"Adams\", \"fullname\": \"Frances Adams\"}\n",
      "{\"customerid\": 307, \"firstname\": \"Jay\", \"lastname\": \"Adams\", \"fullname\": \"Jay Adams\"}\n",
      "{\"customerid\": 309, \"firstname\": \"Ronald\", \"lastname\": \"Adina\", \"fullname\": \"Ronald Adina\"}\n",
      "{\"customerid\": 311, \"firstname\": \"Samuel\", \"lastname\": \"Agcaoili\", \"fullname\": \"Samuel Agcaoili\"}\n",
      "{\"customerid\": 313, \"firstname\": \"James\", \"lastname\": \"Aguilar\", \"fullname\": \"James Aguilar\"}\n",
      "{\"customerid\": 315, \"firstname\": \"Robert\", \"lastname\": \"Ahlering\", \"fullname\": \"Robert Ahlering\"}\n",
      "{\"customerid\": 319, \"firstname\": \"Kim\", \"lastname\": \"Akers\", \"fullname\": \"Kim Akers\"}\n",
      "{\"customerid\": 441, \"firstname\": \"Stanley\", \"lastname\": \"Alan\", \"fullname\": \"Stanley Alan\"}\n",
      "{\"customerid\": 323, \"firstname\": \"Amy\", \"lastname\": \"Alberts\", \"fullname\": \"Amy Alberts\"}\n",
      "{\"customerid\": 325, \"firstname\": \"Anna\", \"lastname\": \"Albright\", \"fullname\": \"Anna Albright\"}\n",
      "{\"customerid\": 327, \"firstname\": \"Milton\", \"lastname\": \"Albury\", \"fullname\": \"Milton Albury\"}\n",
      "{\"customerid\": 329, \"firstname\": \"Paul\", \"lastname\": \"Alcorn\", \"fullname\": \"Paul Alcorn\"}\n",
      "{\"customerid\": 331, \"firstname\": \"Gregory\", \"lastname\": \"Alderson\", \"fullname\": \"Gregory Alderson\"}\n",
      "{\"customerid\": 333, \"firstname\": \"J. Phillip\", \"lastname\": \"Alexander\", \"fullname\": \"J. Phillip Alexander\"}\n"
     ]
    }
   ],
   "source": [
    "# Import Dynamic DataFrame class\n",
    "from awsglue.dynamicframe import DynamicFrame\n",
    "\n",
    "#Convert from Spark Data Frame to Glue Dynamic Frame\n",
    "dyfCustomersConvert = DynamicFrame.fromDF(sparkDf, glueContext, \"convert\")\n",
    "\n",
    "#Show converted Glue Dynamic Frame\n",
    "dyfCustomersConvert.show()"
   ]
  },
  {
   "cell_type": "code",
   "execution_count": 34,
   "metadata": {
    "tags": []
   },
   "outputs": [
    {
     "name": "stdout",
     "output_type": "stream",
     "text": [
      "<awsglue.dynamicframe.DynamicFrame object at 0x7f0a20504760>\n"
     ]
    }
   ],
   "source": [
    "# write down the data in converted Dynamic Frame to S3 location. \n",
    "glueContext.write_dynamic_frame.from_options(\n",
    "                            frame = dyfCustomersConvert,\n",
    "                            connection_type=\"s3\", \n",
    "                            connection_options = {\"path\": \"s3://chivas-1994-101/write_down_dyf_to_s3\"}, \n",
    "                            format = \"csv\", \n",
    "                            format_options={\n",
    "                                \"separator\": \",\"\n",
    "                                },\n",
    "                            transformation_ctx = \"datasink2\")"
   ]
  },
  {
   "cell_type": "code",
   "execution_count": 35,
   "metadata": {
    "tags": []
   },
   "outputs": [
    {
     "name": "stdout",
     "output_type": "stream",
     "text": [
      "<awsglue.dynamicframe.DynamicFrame object at 0x7f0a205040a0>\n"
     ]
    }
   ],
   "source": [
    "# write data from the converted to customers_write_dyf table using the meta data stored in the glue data catalog \n",
    "glueContext.write_dynamic_frame.from_catalog(\n",
    "    frame = dyfCustomersConvert,\n",
    "    database = \"pyspark_tutorial_db\",  \n",
    "    table_name = \"customers_write_dyf\")"
   ]
  },
  {
   "cell_type": "code",
   "execution_count": null,
   "metadata": {},
   "outputs": [],
   "source": []
  }
 ],
 "metadata": {
  "kernelspec": {
   "display_name": "Python 3 (ipykernel)",
   "language": "python",
   "name": "python3"
  },
  "language_info": {
   "codemirror_mode": {
    "name": "ipython",
    "version": 3
   },
   "file_extension": ".py",
   "mimetype": "text/x-python",
   "name": "python",
   "nbconvert_exporter": "python",
   "pygments_lexer": "ipython3",
   "version": "3.11.5"
  }
 },
 "nbformat": 4,
 "nbformat_minor": 4
}
