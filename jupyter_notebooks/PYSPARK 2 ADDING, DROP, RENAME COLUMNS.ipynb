{
 "cells": [
  {
   "cell_type": "code",
   "execution_count": 2,
   "id": "25983827",
   "metadata": {},
   "outputs": [],
   "source": [
    "from pyspark.sql import SparkSession"
   ]
  },
  {
   "cell_type": "code",
   "execution_count": 3,
   "id": "b35f6753",
   "metadata": {},
   "outputs": [],
   "source": [
    "spark=SparkSession.builder.appName('DataFrame').getOrCreate()"
   ]
  },
  {
   "cell_type": "code",
   "execution_count": 4,
   "id": "a9bfc985",
   "metadata": {},
   "outputs": [
    {
     "data": {
      "text/html": [
       "\n",
       "            <div>\n",
       "                <p><b>SparkSession - in-memory</b></p>\n",
       "                \n",
       "        <div>\n",
       "            <p><b>SparkContext</b></p>\n",
       "\n",
       "            <p><a href=\"http://DESKTOP-2K6T29E:4041\">Spark UI</a></p>\n",
       "\n",
       "            <dl>\n",
       "              <dt>Version</dt>\n",
       "                <dd><code>v3.4.1</code></dd>\n",
       "              <dt>Master</dt>\n",
       "                <dd><code>local[*]</code></dd>\n",
       "              <dt>AppName</dt>\n",
       "                <dd><code>DataFrame</code></dd>\n",
       "            </dl>\n",
       "        </div>\n",
       "        \n",
       "            </div>\n",
       "        "
      ],
      "text/plain": [
       "<pyspark.sql.session.SparkSession at 0x22c2f90b5d0>"
      ]
     },
     "execution_count": 4,
     "metadata": {},
     "output_type": "execute_result"
    }
   ],
   "source": [
    "spark"
   ]
  },
  {
   "cell_type": "code",
   "execution_count": 12,
   "id": "c6f84df6",
   "metadata": {},
   "outputs": [
    {
     "name": "stdout",
     "output_type": "stream",
     "text": [
      "+-----+----+----------+\n",
      "| Name| Age|experience|\n",
      "+-----+----+----------+\n",
      "|edgar|  30|         1|\n",
      "|flaco|  29|         2|\n",
      "|rojas|  32|         3|\n",
      "| alan|  28|         4|\n",
      "| null|null|      null|\n",
      "+-----+----+----------+\n",
      "\n"
     ]
    }
   ],
   "source": [
    "##read dataset\n",
    "dframe=spark.read.option('header', 'true').csv('test1.csv').show()"
   ]
  },
  {
   "cell_type": "code",
   "execution_count": 11,
   "id": "eca06c80",
   "metadata": {},
   "outputs": [
    {
     "data": {
      "text/html": [
       "<div>\n",
       "<style scoped>\n",
       "    .dataframe tbody tr th:only-of-type {\n",
       "        vertical-align: middle;\n",
       "    }\n",
       "\n",
       "    .dataframe tbody tr th {\n",
       "        vertical-align: top;\n",
       "    }\n",
       "\n",
       "    .dataframe thead th {\n",
       "        text-align: right;\n",
       "    }\n",
       "</style>\n",
       "<table border=\"1\" class=\"dataframe\">\n",
       "  <thead>\n",
       "    <tr style=\"text-align: right;\">\n",
       "      <th></th>\n",
       "      <th>Name</th>\n",
       "      <th>Age</th>\n",
       "      <th>experience</th>\n",
       "    </tr>\n",
       "  </thead>\n",
       "  <tbody>\n",
       "    <tr>\n",
       "      <th>0</th>\n",
       "      <td>edgar</td>\n",
       "      <td>30.0</td>\n",
       "      <td>1.0</td>\n",
       "    </tr>\n",
       "    <tr>\n",
       "      <th>1</th>\n",
       "      <td>flaco</td>\n",
       "      <td>29.0</td>\n",
       "      <td>2.0</td>\n",
       "    </tr>\n",
       "    <tr>\n",
       "      <th>2</th>\n",
       "      <td>rojas</td>\n",
       "      <td>32.0</td>\n",
       "      <td>3.0</td>\n",
       "    </tr>\n",
       "    <tr>\n",
       "      <th>3</th>\n",
       "      <td>alan</td>\n",
       "      <td>28.0</td>\n",
       "      <td>4.0</td>\n",
       "    </tr>\n",
       "    <tr>\n",
       "      <th>4</th>\n",
       "      <td>NaN</td>\n",
       "      <td>NaN</td>\n",
       "      <td>NaN</td>\n",
       "    </tr>\n",
       "  </tbody>\n",
       "</table>\n",
       "</div>"
      ],
      "text/plain": [
       "    Name   Age  experience\n",
       "0  edgar  30.0         1.0\n",
       "1  flaco  29.0         2.0\n",
       "2  rojas  32.0         3.0\n",
       "3   alan  28.0         4.0\n",
       "4    NaN   NaN         NaN"
      ]
     },
     "execution_count": 11,
     "metadata": {},
     "output_type": "execute_result"
    }
   ],
   "source": [
    "import pandas as pd\n",
    "pd.read_csv('test1.csv')"
   ]
  },
  {
   "cell_type": "code",
   "execution_count": 50,
   "id": "962c4b04",
   "metadata": {},
   "outputs": [],
   "source": [
    "dframe=spark.read.option('header', 'true').csv('test1.csv', inferSchema=True)"
   ]
  },
  {
   "cell_type": "code",
   "execution_count": 18,
   "id": "19972fec",
   "metadata": {},
   "outputs": [
    {
     "name": "stdout",
     "output_type": "stream",
     "text": [
      "root\n",
      " |-- Name: string (nullable = true)\n",
      " |-- Age: integer (nullable = true)\n",
      " |-- experience: integer (nullable = true)\n",
      "\n"
     ]
    }
   ],
   "source": [
    "###check schema\n",
    "dframe.printSchema()"
   ]
  },
  {
   "cell_type": "code",
   "execution_count": 17,
   "id": "644fcd66",
   "metadata": {},
   "outputs": [
    {
     "name": "stdout",
     "output_type": "stream",
     "text": [
      "+-----+----+----------+\n",
      "| Name| Age|experience|\n",
      "+-----+----+----------+\n",
      "|edgar|  30|         1|\n",
      "|flaco|  29|         2|\n",
      "|rojas|  32|         3|\n",
      "| alan|  28|         4|\n",
      "| null|null|      null|\n",
      "+-----+----+----------+\n",
      "\n"
     ]
    }
   ],
   "source": [
    "dframe=spark.read.csv('test1.csv', header=True, inferSchema=True)\n",
    "dframe.show()"
   ]
  },
  {
   "cell_type": "code",
   "execution_count": 20,
   "id": "88b34d6a",
   "metadata": {},
   "outputs": [
    {
     "data": {
      "text/plain": [
       "pyspark.sql.dataframe.DataFrame"
      ]
     },
     "execution_count": 20,
     "metadata": {},
     "output_type": "execute_result"
    }
   ],
   "source": [
    "type(dframe)"
   ]
  },
  {
   "cell_type": "code",
   "execution_count": 22,
   "id": "75e07bc1",
   "metadata": {},
   "outputs": [
    {
     "data": {
      "text/plain": [
       "['Name', 'Age', 'experience']"
      ]
     },
     "execution_count": 22,
     "metadata": {},
     "output_type": "execute_result"
    }
   ],
   "source": [
    "dframe.columns"
   ]
  },
  {
   "cell_type": "code",
   "execution_count": 26,
   "id": "6eabd1bf",
   "metadata": {},
   "outputs": [
    {
     "data": {
      "text/plain": [
       "[Row(Name='edgar', Age=30, experience=1),\n",
       " Row(Name='flaco', Age=29, experience=2),\n",
       " Row(Name='rojas', Age=32, experience=3),\n",
       " Row(Name='alan', Age=28, experience=4)]"
      ]
     },
     "execution_count": 26,
     "metadata": {},
     "output_type": "execute_result"
    }
   ],
   "source": [
    "dframe.head(4)"
   ]
  },
  {
   "cell_type": "code",
   "execution_count": 34,
   "id": "8253cc7c",
   "metadata": {},
   "outputs": [
    {
     "data": {
      "text/plain": [
       "DataFrame[Name: string, Age: int]"
      ]
     },
     "execution_count": 34,
     "metadata": {},
     "output_type": "execute_result"
    }
   ],
   "source": [
    "dframe.select('Name','Age')"
   ]
  },
  {
   "cell_type": "code",
   "execution_count": 33,
   "id": "9923dd6f",
   "metadata": {},
   "outputs": [
    {
     "name": "stdout",
     "output_type": "stream",
     "text": [
      "+-----+----+\n",
      "| Name| Age|\n",
      "+-----+----+\n",
      "|edgar|  30|\n",
      "|flaco|  29|\n",
      "|rojas|  32|\n",
      "| alan|  28|\n",
      "| null|null|\n",
      "+-----+----+\n",
      "\n"
     ]
    }
   ],
   "source": [
    "dframe.select('Name', 'Age').show()"
   ]
  },
  {
   "cell_type": "code",
   "execution_count": 35,
   "id": "ced592b4",
   "metadata": {},
   "outputs": [
    {
     "data": {
      "text/plain": [
       "Column<'Name'>"
      ]
     },
     "execution_count": 35,
     "metadata": {},
     "output_type": "execute_result"
    }
   ],
   "source": [
    "dframe['Name']"
   ]
  },
  {
   "cell_type": "code",
   "execution_count": 38,
   "id": "55a380e1",
   "metadata": {},
   "outputs": [
    {
     "data": {
      "text/plain": [
       "[('Name', 'string'), ('Age', 'int'), ('experience', 'int')]"
      ]
     },
     "execution_count": 38,
     "metadata": {},
     "output_type": "execute_result"
    }
   ],
   "source": [
    "dframe.dtypes"
   ]
  },
  {
   "cell_type": "code",
   "execution_count": 42,
   "id": "0b937b88",
   "metadata": {},
   "outputs": [
    {
     "name": "stdout",
     "output_type": "stream",
     "text": [
      "+-------+-----+------------------+------------------+\n",
      "|summary| Name|               Age|        experience|\n",
      "+-------+-----+------------------+------------------+\n",
      "|  count|    4|                 4|                 4|\n",
      "|   mean| null|             29.75|               2.5|\n",
      "| stddev| null|1.7078251276599328|1.2909944487358056|\n",
      "|    min| alan|                28|                 1|\n",
      "|    max|rojas|                32|                 4|\n",
      "+-------+-----+------------------+------------------+\n",
      "\n"
     ]
    }
   ],
   "source": [
    "dframe.describe().show()"
   ]
  },
  {
   "cell_type": "code",
   "execution_count": 51,
   "id": "8bbe6ea9",
   "metadata": {},
   "outputs": [],
   "source": [
    "###Adding columns in data frame\n",
    "dframe=dframe.withColumn('experience after 2 years', dframe['experience']+2)"
   ]
  },
  {
   "cell_type": "code",
   "execution_count": 52,
   "id": "6ecb424a",
   "metadata": {},
   "outputs": [
    {
     "name": "stdout",
     "output_type": "stream",
     "text": [
      "+-----+----+----------+------------------------+\n",
      "| Name| Age|experience|experience after 2 years|\n",
      "+-----+----+----------+------------------------+\n",
      "|edgar|  30|         1|                       3|\n",
      "|flaco|  29|         2|                       4|\n",
      "|rojas|  32|         3|                       5|\n",
      "| alan|  28|         4|                       6|\n",
      "| null|null|      null|                    null|\n",
      "+-----+----+----------+------------------------+\n",
      "\n"
     ]
    }
   ],
   "source": [
    "dframe.show()"
   ]
  },
  {
   "cell_type": "code",
   "execution_count": 55,
   "id": "aff5808f",
   "metadata": {},
   "outputs": [],
   "source": [
    "###Drop the columns\n",
    "dframe=dframe.drop('experience after 2 years')"
   ]
  },
  {
   "cell_type": "code",
   "execution_count": 56,
   "id": "ce34e31b",
   "metadata": {},
   "outputs": [
    {
     "name": "stdout",
     "output_type": "stream",
     "text": [
      "+-----+----+----------+\n",
      "| Name| Age|experience|\n",
      "+-----+----+----------+\n",
      "|edgar|  30|         1|\n",
      "|flaco|  29|         2|\n",
      "|rojas|  32|         3|\n",
      "| alan|  28|         4|\n",
      "| null|null|      null|\n",
      "+-----+----+----------+\n",
      "\n"
     ]
    }
   ],
   "source": [
    "dframe.show()"
   ]
  },
  {
   "cell_type": "code",
   "execution_count": 57,
   "id": "ffaaa82f",
   "metadata": {},
   "outputs": [
    {
     "name": "stdout",
     "output_type": "stream",
     "text": [
      "+--------+----+----------+\n",
      "|New Name| Age|experience|\n",
      "+--------+----+----------+\n",
      "|   edgar|  30|         1|\n",
      "|   flaco|  29|         2|\n",
      "|   rojas|  32|         3|\n",
      "|    alan|  28|         4|\n",
      "|    null|null|      null|\n",
      "+--------+----+----------+\n",
      "\n"
     ]
    }
   ],
   "source": [
    "###Rename columns\n",
    "dframe.withColumnRenamed('Name', 'New Name').show()"
   ]
  },
  {
   "cell_type": "code",
   "execution_count": null,
   "id": "0f38de5a",
   "metadata": {},
   "outputs": [],
   "source": []
  },
  {
   "cell_type": "code",
   "execution_count": null,
   "id": "798c4dbd",
   "metadata": {},
   "outputs": [],
   "source": []
  },
  {
   "cell_type": "code",
   "execution_count": null,
   "id": "146218a4",
   "metadata": {},
   "outputs": [],
   "source": []
  },
  {
   "cell_type": "code",
   "execution_count": null,
   "id": "c9913230",
   "metadata": {},
   "outputs": [],
   "source": []
  },
  {
   "cell_type": "code",
   "execution_count": null,
   "id": "bb0eed6c",
   "metadata": {},
   "outputs": [],
   "source": []
  },
  {
   "cell_type": "code",
   "execution_count": null,
   "id": "84e78a70",
   "metadata": {},
   "outputs": [],
   "source": []
  },
  {
   "cell_type": "code",
   "execution_count": null,
   "id": "652adcce",
   "metadata": {},
   "outputs": [],
   "source": []
  },
  {
   "cell_type": "code",
   "execution_count": null,
   "id": "17e5a87e",
   "metadata": {},
   "outputs": [],
   "source": []
  }
 ],
 "metadata": {
  "kernelspec": {
   "display_name": "Python 3 (ipykernel)",
   "language": "python",
   "name": "python3"
  },
  "language_info": {
   "codemirror_mode": {
    "name": "ipython",
    "version": 3
   },
   "file_extension": ".py",
   "mimetype": "text/x-python",
   "name": "python",
   "nbconvert_exporter": "python",
   "pygments_lexer": "ipython3",
   "version": "3.11.5"
  }
 },
 "nbformat": 4,
 "nbformat_minor": 5
}
