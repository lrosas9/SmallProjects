{
 "cells": [
  {
   "cell_type": "code",
   "execution_count": 1,
   "id": "1224179d",
   "metadata": {},
   "outputs": [],
   "source": [
    "from pyspark.sql import SparkSession"
   ]
  },
  {
   "cell_type": "code",
   "execution_count": 2,
   "id": "ad8c7b7d",
   "metadata": {},
   "outputs": [],
   "source": [
    "spark=SparkSession.builder.appName('dfGroupBy').getOrCreate()"
   ]
  },
  {
   "cell_type": "code",
   "execution_count": 3,
   "id": "0b7ef282",
   "metadata": {},
   "outputs": [
    {
     "data": {
      "text/html": [
       "\n",
       "            <div>\n",
       "                <p><b>SparkSession - in-memory</b></p>\n",
       "                \n",
       "        <div>\n",
       "            <p><b>SparkContext</b></p>\n",
       "\n",
       "            <p><a href=\"http://DESKTOP-2K6T29E:4043\">Spark UI</a></p>\n",
       "\n",
       "            <dl>\n",
       "              <dt>Version</dt>\n",
       "                <dd><code>v3.4.1</code></dd>\n",
       "              <dt>Master</dt>\n",
       "                <dd><code>local[*]</code></dd>\n",
       "              <dt>AppName</dt>\n",
       "                <dd><code>dfGroupBy</code></dd>\n",
       "            </dl>\n",
       "        </div>\n",
       "        \n",
       "            </div>\n",
       "        "
      ],
      "text/plain": [
       "<pyspark.sql.session.SparkSession at 0x1a4fc77b490>"
      ]
     },
     "execution_count": 3,
     "metadata": {},
     "output_type": "execute_result"
    }
   ],
   "source": [
    "spark"
   ]
  },
  {
   "cell_type": "code",
   "execution_count": 7,
   "id": "e41d77a6",
   "metadata": {
    "scrolled": true
   },
   "outputs": [
    {
     "name": "stdout",
     "output_type": "stream",
     "text": [
      "+-------+------------+------+\n",
      "|   Name| Departments|Salary|\n",
      "+-------+------------+------+\n",
      "|  edgar|Data science| 10000|\n",
      "|  flaco|         IOT|  5000|\n",
      "|  rojas|    Big Data|  4000|\n",
      "|   alan|    Big Data|  4000|\n",
      "| miriam|Data science| 30000|\n",
      "|   jose|Data science| 20000|\n",
      "|   raul|         IOT| 10000|\n",
      "| carlos|    Big Data|  5000|\n",
      "|alfredo|Data science| 10000|\n",
      "+-------+------------+------+\n",
      "\n"
     ]
    }
   ],
   "source": [
    "dframe=spark.read.csv('test3.csv', header=True, inferSchema=True)\n",
    "dframe.show()"
   ]
  },
  {
   "cell_type": "code",
   "execution_count": 12,
   "id": "f1bc55b0",
   "metadata": {},
   "outputs": [
    {
     "name": "stdout",
     "output_type": "stream",
     "text": [
      "+-----+------------+------+\n",
      "| Name| Departments|Salary|\n",
      "+-----+------------+------+\n",
      "|edgar|Data science| 10000|\n",
      "|flaco|         IOT|  5000|\n",
      "|flaco|    Big Data|  4000|\n",
      "|flaco|    Big Data|  4000|\n",
      "|edgar|Data science| 30000|\n",
      "|edgar|Data science| 20000|\n",
      "| joto|         IOT| 10000|\n",
      "| joto|    Big Data|  5000|\n",
      "| joto|Data science| 10000|\n",
      "| null|        null|  null|\n",
      "+-----+------------+------+\n",
      "\n"
     ]
    }
   ],
   "source": [
    "dframe.show()"
   ]
  },
  {
   "cell_type": "code",
   "execution_count": 8,
   "id": "915739c4",
   "metadata": {},
   "outputs": [
    {
     "name": "stdout",
     "output_type": "stream",
     "text": [
      "root\n",
      " |-- Name: string (nullable = true)\n",
      " |-- Departments: string (nullable = true)\n",
      " |-- Salary: integer (nullable = true)\n",
      "\n"
     ]
    }
   ],
   "source": [
    "dframe.printSchema()"
   ]
  },
  {
   "cell_type": "code",
   "execution_count": 13,
   "id": "28bfdf7f",
   "metadata": {},
   "outputs": [
    {
     "name": "stdout",
     "output_type": "stream",
     "text": [
      "+-----+-----------+\n",
      "| Name|sum(Salary)|\n",
      "+-----+-----------+\n",
      "| null|       null|\n",
      "|edgar|      60000|\n",
      "|flaco|      13000|\n",
      "| joto|      25000|\n",
      "+-----+-----------+\n",
      "\n"
     ]
    }
   ],
   "source": [
    "#Group by\n",
    "dframe.groupBy('Name').sum('Salary').show()"
   ]
  },
  {
   "cell_type": "code",
   "execution_count": 14,
   "id": "c493eeeb",
   "metadata": {},
   "outputs": [
    {
     "name": "stdout",
     "output_type": "stream",
     "text": [
      "+------------+-----------+\n",
      "| Departments|sum(Salary)|\n",
      "+------------+-----------+\n",
      "|         IOT|      15000|\n",
      "|        null|       null|\n",
      "|Data science|      70000|\n",
      "|    Big Data|      13000|\n",
      "+------------+-----------+\n",
      "\n"
     ]
    }
   ],
   "source": [
    "dframe.groupBy('Departments').sum('Salary').show()"
   ]
  },
  {
   "cell_type": "code",
   "execution_count": 15,
   "id": "1fe36658",
   "metadata": {},
   "outputs": [
    {
     "name": "stdout",
     "output_type": "stream",
     "text": [
      "+------------+-----------------+\n",
      "| Departments|      avg(Salary)|\n",
      "+------------+-----------------+\n",
      "|         IOT|           7500.0|\n",
      "|        null|             null|\n",
      "|Data science|          17500.0|\n",
      "|    Big Data|4333.333333333333|\n",
      "+------------+-----------------+\n",
      "\n"
     ]
    }
   ],
   "source": [
    "dframe.groupBy('Departments').mean().show()"
   ]
  },
  {
   "cell_type": "code",
   "execution_count": 16,
   "id": "16f6f16e",
   "metadata": {},
   "outputs": [
    {
     "name": "stdout",
     "output_type": "stream",
     "text": [
      "+------------+-----+\n",
      "| Departments|count|\n",
      "+------------+-----+\n",
      "|         IOT|    2|\n",
      "|        null|    1|\n",
      "|Data science|    4|\n",
      "|    Big Data|    3|\n",
      "+------------+-----+\n",
      "\n"
     ]
    }
   ],
   "source": [
    "dframe.groupBy('Departments').count().show()"
   ]
  },
  {
   "cell_type": "code",
   "execution_count": 18,
   "id": "713bedf5",
   "metadata": {},
   "outputs": [
    {
     "name": "stdout",
     "output_type": "stream",
     "text": [
      "+------------------+\n",
      "|       avg(Salary)|\n",
      "+------------------+\n",
      "|10888.888888888889|\n",
      "+------------------+\n",
      "\n"
     ]
    }
   ],
   "source": [
    "dframe.agg({'Salary':'mean'}).show()"
   ]
  },
  {
   "cell_type": "code",
   "execution_count": 21,
   "id": "b2b836ef",
   "metadata": {},
   "outputs": [
    {
     "name": "stdout",
     "output_type": "stream",
     "text": [
      "+-----+-----------+\n",
      "| Name|max(Salary)|\n",
      "+-----+-----------+\n",
      "| null|       null|\n",
      "|edgar|      30000|\n",
      "|flaco|       5000|\n",
      "| joto|      10000|\n",
      "+-----+-----------+\n",
      "\n",
      "+-----+-----------+\n",
      "| Name|min(Salary)|\n",
      "+-----+-----------+\n",
      "| null|       null|\n",
      "|edgar|      10000|\n",
      "|flaco|       4000|\n",
      "| joto|       5000|\n",
      "+-----+-----------+\n",
      "\n"
     ]
    }
   ],
   "source": [
    "dframe.groupBy('Name').max().show()\n",
    "dframe.groupBy('Name').min().show()"
   ]
  }
 ],
 "metadata": {
  "kernelspec": {
   "display_name": "Python 3 (ipykernel)",
   "language": "python",
   "name": "python3"
  },
  "language_info": {
   "codemirror_mode": {
    "name": "ipython",
    "version": 3
   },
   "file_extension": ".py",
   "mimetype": "text/x-python",
   "name": "python",
   "nbconvert_exporter": "python",
   "pygments_lexer": "ipython3",
   "version": "3.11.5"
  }
 },
 "nbformat": 4,
 "nbformat_minor": 5
}
